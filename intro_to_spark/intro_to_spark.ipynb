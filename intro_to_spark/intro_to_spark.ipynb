{
 "cells": [
  {
   "cell_type": "markdown",
   "metadata": {},
   "source": [
    "# Spark Tutorial for Coralian"
   ]
  },
  {
   "cell_type": "markdown",
   "metadata": {},
   "source": [
    "> This tutorial will cover commands to manipulate PySpark DataFrame and SparkSQL"
   ]
  },
  {
   "cell_type": "markdown",
   "metadata": {},
   "source": [
    "## Use `findspark` to make PySpark is importable"
   ]
  },
  {
   "cell_type": "code",
   "execution_count": 1,
   "metadata": {},
   "outputs": [],
   "source": [
    "import findspark\n",
    "\n",
    "findspark.init('/home/artthanan/spark-3.0.1-bin-hadoop2.7')"
   ]
  },
  {
   "cell_type": "markdown",
   "metadata": {},
   "source": [
    "## Start SparkSession"
   ]
  },
  {
   "cell_type": "code",
   "execution_count": 2,
   "metadata": {},
   "outputs": [],
   "source": [
    "from pyspark.sql import SparkSession\n",
    "\n",
    "app_name = \"SparkApplication\"\n",
    "\n",
    "spark_con = SparkSession.builder.appName(app_name).getOrCreate()"
   ]
  },
  {
   "cell_type": "markdown",
   "metadata": {},
   "source": [
    "## Read CSV File"
   ]
  },
  {
   "cell_type": "code",
   "execution_count": 3,
   "metadata": {},
   "outputs": [],
   "source": [
    "csv_file_path = './dataset/yellow_tripdata/'\n",
    "\n",
    "df = spark_con.read.csv(csv_file_path, header=True)"
   ]
  },
  {
   "cell_type": "markdown",
   "metadata": {},
   "source": [
    "## Show columns and schema in DataFrame"
   ]
  },
  {
   "cell_type": "code",
   "execution_count": 4,
   "metadata": {},
   "outputs": [
    {
     "data": {
      "text/plain": [
       "['vendor_id',\n",
       " 'pickup_datetime',\n",
       " 'dropoff_datetime',\n",
       " 'passenger_count',\n",
       " 'trip_distance',\n",
       " 'pickup_longtitude',\n",
       " 'pickup_latitude',\n",
       " 'pu_location_id',\n",
       " 'rate_code_id',\n",
       " 'store_and_fwd_flag',\n",
       " 'dropoff_longtitude',\n",
       " 'dropoff_latitude',\n",
       " 'do_location_id',\n",
       " 'payment_type',\n",
       " 'fare_amount',\n",
       " 'extra',\n",
       " 'improvement_surcharge',\n",
       " 'mta_tax',\n",
       " 'tip_amount',\n",
       " 'tolls_amount',\n",
       " 'total_amount',\n",
       " 'consgestion_surcharge']"
      ]
     },
     "execution_count": 4,
     "metadata": {},
     "output_type": "execute_result"
    }
   ],
   "source": [
    "df.columns"
   ]
  },
  {
   "cell_type": "code",
   "execution_count": 5,
   "metadata": {},
   "outputs": [
    {
     "name": "stdout",
     "output_type": "stream",
     "text": [
      "root\n",
      " |-- vendor_id: string (nullable = true)\n",
      " |-- pickup_datetime: string (nullable = true)\n",
      " |-- dropoff_datetime: string (nullable = true)\n",
      " |-- passenger_count: string (nullable = true)\n",
      " |-- trip_distance: string (nullable = true)\n",
      " |-- pickup_longtitude: string (nullable = true)\n",
      " |-- pickup_latitude: string (nullable = true)\n",
      " |-- pu_location_id: string (nullable = true)\n",
      " |-- rate_code_id: string (nullable = true)\n",
      " |-- store_and_fwd_flag: string (nullable = true)\n",
      " |-- dropoff_longtitude: string (nullable = true)\n",
      " |-- dropoff_latitude: string (nullable = true)\n",
      " |-- do_location_id: string (nullable = true)\n",
      " |-- payment_type: string (nullable = true)\n",
      " |-- fare_amount: string (nullable = true)\n",
      " |-- extra: string (nullable = true)\n",
      " |-- improvement_surcharge: string (nullable = true)\n",
      " |-- mta_tax: string (nullable = true)\n",
      " |-- tip_amount: string (nullable = true)\n",
      " |-- tolls_amount: string (nullable = true)\n",
      " |-- total_amount: string (nullable = true)\n",
      " |-- consgestion_surcharge: string (nullable = true)\n",
      "\n"
     ]
    }
   ],
   "source": [
    "df.printSchema()"
   ]
  },
  {
   "cell_type": "markdown",
   "metadata": {},
   "source": [
    "## Show DataFrame"
   ]
  },
  {
   "cell_type": "code",
   "execution_count": 6,
   "metadata": {},
   "outputs": [
    {
     "name": "stdout",
     "output_type": "stream",
     "text": [
      "+---------+-------------------+-------------------+---------------+-------------+-----------------+---------------+--------------+------------+------------------+------------------+----------------+--------------+------------+-----------+-----+---------------------+-------+----------+------------+------------+---------------------+\n",
      "|vendor_id|    pickup_datetime|   dropoff_datetime|passenger_count|trip_distance|pickup_longtitude|pickup_latitude|pu_location_id|rate_code_id|store_and_fwd_flag|dropoff_longtitude|dropoff_latitude|do_location_id|payment_type|fare_amount|extra|improvement_surcharge|mta_tax|tip_amount|tolls_amount|total_amount|consgestion_surcharge|\n",
      "+---------+-------------------+-------------------+---------------+-------------+-----------------+---------------+--------------+------------+------------------+------------------+----------------+--------------+------------+-----------+-----+---------------------+-------+----------+------------+------------+---------------------+\n",
      "|        4|2018-07-30 14:24:04|2018-07-30 14:44:31|              1|         6.31|             null|           null|            87|           1|             false|              null|            null|           237|           1|         22| null|                  0.3|    0.5|      4.56|           0|       27.36|                 null|\n",
      "|        4|2018-10-07 18:26:38|2018-10-07 19:00:11|              1|         4.69|             null|           null|            88|           1|             false|              null|            null|            50|           1|       23.5| null|                  0.3|    0.5|         4|           0|        28.3|                 null|\n",
      "|        4|2018-11-17 10:24:50|2018-11-17 11:02:06|              1|         10.7|             null|           null|           138|           1|             false|              null|            null|           211|           1|       35.5| null|                  0.3|    0.5|      8.41|        5.76|       50.47|                 null|\n",
      "|        4|2018-10-25 23:24:00|2018-10-25 23:48:18|              1|        15.74|             null|           null|           138|           1|             false|              null|            null|           261|           1|       42.5| null|                  0.3|    0.5|      9.91|        5.76|       59.47|                 null|\n",
      "|        4|2018-09-09 01:34:52|2018-09-09 01:58:59|              1|         9.95|             null|           null|            79|           1|             false|              null|            null|           223|           1|       30.5| null|                  0.3|    0.5|      6.36|           0|       38.16|                 null|\n",
      "|        4|2018-11-15 07:45:38|2018-11-15 07:48:02|              1|         0.29|             null|           null|           140|           1|             false|              null|            null|           140|           1|          3| null|                  0.3|    0.5|      0.75|           0|        4.55|                 null|\n",
      "|        4|2018-10-09 11:56:57|2018-10-09 12:38:42|              1|         6.32|             null|           null|           238|           1|             false|              null|            null|            79|           1|         29| null|                  0.3|    0.5|         4|           0|        33.8|                 null|\n",
      "|        4|2018-10-17 20:03:19|2018-10-17 20:30:33|              1|        17.05|             null|           null|           138|           1|             false|              null|            null|            68|           1|       46.5| null|                  0.3|    0.5|     10.71|        5.76|       64.27|                 null|\n",
      "|        4|2018-11-29 22:46:35|2018-11-29 23:17:38|              1|         5.35|             null|           null|            68|           1|             false|              null|            null|           181|           1|         23| null|                  0.3|    0.5|      6.08|           0|       30.38|                 null|\n",
      "|        4|2018-10-05 09:15:01|2018-10-05 09:49:16|              1|         7.68|             null|           null|            25|           1|             false|              null|            null|           229|           1|         28| null|                  0.3|    0.5|      5.76|           0|       34.56|                 null|\n",
      "|        4|2018-12-25 20:22:38|2018-12-25 20:59:05|              1|        26.39|             null|           null|           132|           1|             false|              null|            null|           200|           1|       68.5| null|                  0.3|    0.5|        10|        5.76|       85.56|                 null|\n",
      "|        4|2018-11-11 16:42:47|2018-11-11 17:22:56|              1|         5.11|             null|           null|           113|           1|             false|              null|            null|            43|           1|       26.5| null|                  0.3|    0.5|      5.46|           0|       32.76|                 null|\n",
      "|        4|2018-12-07 13:47:19|2018-12-07 14:28:12|              1|          1.2|             null|           null|           100|           1|             false|              null|            null|           161|           1|         23| null|                  0.3|    0.5|      4.76|           0|       28.56|                 null|\n",
      "|        4|2018-11-03 02:02:45|2018-11-03 02:21:27|              1|         8.82|             null|           null|            83|           1|             false|              null|            null|           140|           1|         26| null|                  0.3|    0.5|      6.61|        5.76|       39.67|                 null|\n",
      "|        4|2018-11-10 17:48:49|2018-11-10 18:23:19|              4|         3.41|             null|           null|           231|           1|             false|              null|            null|           170|           1|       21.5| null|                  0.3|    0.5|      2.22|           0|       24.52|                 null|\n",
      "|        4|2018-10-26 13:03:09|2018-10-26 13:32:52|              1|         8.58|             null|           null|           138|           1|             false|              null|            null|           140|           1|       29.5| null|                  0.3|    0.5|      7.21|        5.76|       43.27|                 null|\n",
      "|        4|2018-11-18 15:03:12|2018-11-18 15:36:44|              1|         5.77|             null|           null|           236|           1|             false|              null|            null|           158|           1|         25| null|                  0.3|    0.5|      5.16|           0|       30.96|                 null|\n",
      "|        4|2018-10-29 23:02:11|2018-10-29 23:27:13|              1|        15.48|             null|           null|           132|           1|             false|              null|            null|           149|           1|       43.5| null|                  0.3|    0.5|      8.96|           0|       53.76|                 null|\n",
      "|        4|2018-12-02 02:37:42|2018-12-02 03:10:58|              1|         4.54|             null|           null|           140|           1|             false|              null|            null|            80|           1|       23.5| null|                  0.3|    0.5|      4.96|           0|       29.76|                 null|\n",
      "|        4|2018-10-21 16:14:36|2018-10-21 16:38:59|              1|         8.65|             null|           null|           138|           1|             false|              null|            null|           238|           1|         26| null|                  0.3|    0.5|      6.51|        5.76|       39.07|                 null|\n",
      "+---------+-------------------+-------------------+---------------+-------------+-----------------+---------------+--------------+------------+------------------+------------------+----------------+--------------+------------+-----------+-----+---------------------+-------+----------+------------+------------+---------------------+\n",
      "only showing top 20 rows\n",
      "\n"
     ]
    }
   ],
   "source": [
    "df.show()"
   ]
  },
  {
   "cell_type": "code",
   "execution_count": 7,
   "metadata": {},
   "outputs": [
    {
     "data": {
      "text/plain": [
       "[Row(vendor_id='4', pickup_datetime='2018-07-30 14:24:04', dropoff_datetime='2018-07-30 14:44:31', passenger_count='1', trip_distance='6.31', pickup_longtitude=None, pickup_latitude=None, pu_location_id='87', rate_code_id='1', store_and_fwd_flag='false', dropoff_longtitude=None, dropoff_latitude=None, do_location_id='237', payment_type='1', fare_amount='22', extra=None, improvement_surcharge='0.3', mta_tax='0.5', tip_amount='4.56', tolls_amount='0', total_amount='27.36', consgestion_surcharge=None),\n",
       " Row(vendor_id='4', pickup_datetime='2018-10-07 18:26:38', dropoff_datetime='2018-10-07 19:00:11', passenger_count='1', trip_distance='4.69', pickup_longtitude=None, pickup_latitude=None, pu_location_id='88', rate_code_id='1', store_and_fwd_flag='false', dropoff_longtitude=None, dropoff_latitude=None, do_location_id='50', payment_type='1', fare_amount='23.5', extra=None, improvement_surcharge='0.3', mta_tax='0.5', tip_amount='4', tolls_amount='0', total_amount='28.3', consgestion_surcharge=None),\n",
       " Row(vendor_id='4', pickup_datetime='2018-11-17 10:24:50', dropoff_datetime='2018-11-17 11:02:06', passenger_count='1', trip_distance='10.7', pickup_longtitude=None, pickup_latitude=None, pu_location_id='138', rate_code_id='1', store_and_fwd_flag='false', dropoff_longtitude=None, dropoff_latitude=None, do_location_id='211', payment_type='1', fare_amount='35.5', extra=None, improvement_surcharge='0.3', mta_tax='0.5', tip_amount='8.41', tolls_amount='5.76', total_amount='50.47', consgestion_surcharge=None),\n",
       " Row(vendor_id='4', pickup_datetime='2018-10-25 23:24:00', dropoff_datetime='2018-10-25 23:48:18', passenger_count='1', trip_distance='15.74', pickup_longtitude=None, pickup_latitude=None, pu_location_id='138', rate_code_id='1', store_and_fwd_flag='false', dropoff_longtitude=None, dropoff_latitude=None, do_location_id='261', payment_type='1', fare_amount='42.5', extra=None, improvement_surcharge='0.3', mta_tax='0.5', tip_amount='9.91', tolls_amount='5.76', total_amount='59.47', consgestion_surcharge=None),\n",
       " Row(vendor_id='4', pickup_datetime='2018-09-09 01:34:52', dropoff_datetime='2018-09-09 01:58:59', passenger_count='1', trip_distance='9.95', pickup_longtitude=None, pickup_latitude=None, pu_location_id='79', rate_code_id='1', store_and_fwd_flag='false', dropoff_longtitude=None, dropoff_latitude=None, do_location_id='223', payment_type='1', fare_amount='30.5', extra=None, improvement_surcharge='0.3', mta_tax='0.5', tip_amount='6.36', tolls_amount='0', total_amount='38.16', consgestion_surcharge=None)]"
      ]
     },
     "execution_count": 7,
     "metadata": {},
     "output_type": "execute_result"
    }
   ],
   "source": [
    "df.head(5)"
   ]
  },
  {
   "cell_type": "markdown",
   "metadata": {},
   "source": [
    "## Summary DataFrame"
   ]
  },
  {
   "cell_type": "code",
   "execution_count": 8,
   "metadata": {},
   "outputs": [
    {
     "name": "stdout",
     "output_type": "stream",
     "text": [
      "+-------+------------------+-------------------+-------------------+------------------+------------------+------------------+-----------------+------------------+-----------------+------------------+------------------+------------------+------------------+------------------+------------------+-----+---------------------+-------------------+------------------+------------------+------------------+---------------------+\n",
      "|summary|         vendor_id|    pickup_datetime|   dropoff_datetime|   passenger_count|     trip_distance| pickup_longtitude|  pickup_latitude|    pu_location_id|     rate_code_id|store_and_fwd_flag|dropoff_longtitude|  dropoff_latitude|    do_location_id|      payment_type|       fare_amount|extra|improvement_surcharge|            mta_tax|        tip_amount|      tolls_amount|      total_amount|consgestion_surcharge|\n",
      "+-------+------------------+-------------------+-------------------+------------------+------------------+------------------+-----------------+------------------+-----------------+------------------+------------------+------------------+------------------+------------------+------------------+-----+---------------------+-------------------+------------------+------------------+------------------+---------------------+\n",
      "|  count|          10110213|           10110213|           10110213|          10110213|          10110213|           8679018|          8679018|           1431195|          8977836|           5681776|           8678964|           8678964|           1431195|           3130449|          10110213|    0|              9701252|            9175273|          10110213|          10110213|           9701252|                    0|\n",
      "|   mean|1.5467571856426734|               null|               null|1.6717049383628217|3.8279194598569766|-69.08563354723935|39.94352382006906|163.06771753674377|8.367892997822638|              null|-69.08139503063478|38.696364637045505|161.11107221587554|1.2489610915239315|11.131627721357502| null|   0.3011688058394174|0.48856547592642674|1.2304444505769656|0.9043150653676036|13.942495962392993|                 null|\n",
      "| stddev|0.5039370867408913|               null|               null| 1.327662930225636|1460.5655246335798| 19.70017839823572|8.931567088722838| 66.51829677076749|36.46548840541345|              null|19.786380263998296|11.028042022987652| 70.47049295408301|0.5812887263654258|10.074138962210956| null|  0.30358312078689453| 0.3151406908275022|2.1287717660931955| 4.543422729623135| 12.08905215691655|                 null|\n",
      "|    min|                 1|2009-01-01 00:02:18|2009-01-01 00:10:25|                 0|                 0|         -0.000105|        -0.000105|                 1|                0|             false|         -0.000105|         -0.000105|                 1|                -1|              -0.5| null|                 -0.3|               -0.3|              -0.3|             -10.5|              -1.4|                 null|\n",
      "|    25%|               1.0|               null|               null|               1.0|               1.0|        -73.991553|        40.735049|             114.0|              1.0|              null|        -73.990924|         40.730038|             107.0|               1.0|               5.7| null|                  0.0|                0.5|               0.0|               0.0|               7.5|                 null|\n",
      "|    50%|               2.0|               null|               null|               1.0|              1.71|        -73.980828|        40.752697|             162.0|              1.0|              null|        -73.978971|         40.751792|             162.0|               1.0|               8.5| null|                  0.3|                0.5|               0.3|               0.0|              10.4|                 null|\n",
      "|    75%|               2.0|               null|               null|               2.0|              3.13| -73.9632339477539| 40.7672233581543|             233.0|              1.0|              null|-73.95970153808594|         40.767327|             233.0|               2.0|              12.9| null|                  0.5|                0.5|              1.95|               0.0|              15.5|                 null|\n",
      "|    max|               VTS|2018-12-31 23:58:38|2019-01-01 18:45:20|                 9|              99.9|                99|                Y|                98|               99|              true|             8e-06|             9e-05|                98|                 4|             99.99| null|                  7.5|               9.75|                98|             99.96|             99.99|                 null|\n",
      "+-------+------------------+-------------------+-------------------+------------------+------------------+------------------+-----------------+------------------+-----------------+------------------+------------------+------------------+------------------+------------------+------------------+-----+---------------------+-------------------+------------------+------------------+------------------+---------------------+\n",
      "\n"
     ]
    }
   ],
   "source": [
    "df.summary().show()"
   ]
  },
  {
   "cell_type": "code",
   "execution_count": 9,
   "metadata": {},
   "outputs": [
    {
     "data": {
      "text/plain": [
       "10110213"
      ]
     },
     "execution_count": 9,
     "metadata": {},
     "output_type": "execute_result"
    }
   ],
   "source": [
    "df.count()"
   ]
  },
  {
   "cell_type": "markdown",
   "metadata": {},
   "source": [
    "## DataFrame Manipulation Command: `SELECT` and `WHERE`"
   ]
  },
  {
   "cell_type": "code",
   "execution_count": 10,
   "metadata": {},
   "outputs": [],
   "source": [
    "temp_df = df.select([\"vendor_id\", \"pickup_datetime\", \"dropoff_datetime\", \"pu_location_id\", \"do_location_id\", \"passenger_count\", \"trip_distance\", \"total_amount\"])"
   ]
  },
  {
   "cell_type": "code",
   "execution_count": 11,
   "metadata": {},
   "outputs": [
    {
     "name": "stdout",
     "output_type": "stream",
     "text": [
      "+---------+-------------------+-------------------+--------------+--------------+---------------+-------------+------------+\n",
      "|vendor_id|    pickup_datetime|   dropoff_datetime|pu_location_id|do_location_id|passenger_count|trip_distance|total_amount|\n",
      "+---------+-------------------+-------------------+--------------+--------------+---------------+-------------+------------+\n",
      "|        4|2018-07-30 14:24:04|2018-07-30 14:44:31|            87|           237|              1|         6.31|       27.36|\n",
      "|        4|2018-10-07 18:26:38|2018-10-07 19:00:11|            88|            50|              1|         4.69|        28.3|\n",
      "|        4|2018-11-17 10:24:50|2018-11-17 11:02:06|           138|           211|              1|         10.7|       50.47|\n",
      "|        4|2018-10-25 23:24:00|2018-10-25 23:48:18|           138|           261|              1|        15.74|       59.47|\n",
      "|        4|2018-09-09 01:34:52|2018-09-09 01:58:59|            79|           223|              1|         9.95|       38.16|\n",
      "|        4|2018-11-15 07:45:38|2018-11-15 07:48:02|           140|           140|              1|         0.29|        4.55|\n",
      "|        4|2018-10-09 11:56:57|2018-10-09 12:38:42|           238|            79|              1|         6.32|        33.8|\n",
      "|        4|2018-10-17 20:03:19|2018-10-17 20:30:33|           138|            68|              1|        17.05|       64.27|\n",
      "|        4|2018-11-29 22:46:35|2018-11-29 23:17:38|            68|           181|              1|         5.35|       30.38|\n",
      "|        4|2018-10-05 09:15:01|2018-10-05 09:49:16|            25|           229|              1|         7.68|       34.56|\n",
      "|        4|2018-12-25 20:22:38|2018-12-25 20:59:05|           132|           200|              1|        26.39|       85.56|\n",
      "|        4|2018-11-11 16:42:47|2018-11-11 17:22:56|           113|            43|              1|         5.11|       32.76|\n",
      "|        4|2018-12-07 13:47:19|2018-12-07 14:28:12|           100|           161|              1|          1.2|       28.56|\n",
      "|        4|2018-11-03 02:02:45|2018-11-03 02:21:27|            83|           140|              1|         8.82|       39.67|\n",
      "|        4|2018-11-10 17:48:49|2018-11-10 18:23:19|           231|           170|              4|         3.41|       24.52|\n",
      "|        4|2018-10-26 13:03:09|2018-10-26 13:32:52|           138|           140|              1|         8.58|       43.27|\n",
      "|        4|2018-11-18 15:03:12|2018-11-18 15:36:44|           236|           158|              1|         5.77|       30.96|\n",
      "|        4|2018-10-29 23:02:11|2018-10-29 23:27:13|           132|           149|              1|        15.48|       53.76|\n",
      "|        4|2018-12-02 02:37:42|2018-12-02 03:10:58|           140|            80|              1|         4.54|       29.76|\n",
      "|        4|2018-10-21 16:14:36|2018-10-21 16:38:59|           138|           238|              1|         8.65|       39.07|\n",
      "+---------+-------------------+-------------------+--------------+--------------+---------------+-------------+------------+\n",
      "only showing top 20 rows\n",
      "\n"
     ]
    }
   ],
   "source": [
    "temp_df.show()"
   ]
  },
  {
   "cell_type": "code",
   "execution_count": 12,
   "metadata": {},
   "outputs": [
    {
     "name": "stdout",
     "output_type": "stream",
     "text": [
      "+---------+-------------------+-------------------+---------------+-------------+------------+\n",
      "|vendor_id|    pickup_datetime|   dropoff_datetime|passenger_count|trip_distance|total_amount|\n",
      "+---------+-------------------+-------------------+---------------+-------------+------------+\n",
      "|        4|2018-11-10 17:48:49|2018-11-10 18:23:19|              4|         3.41|       24.52|\n",
      "|        4|2018-10-09 05:22:49|2018-10-09 05:24:50|              3|         0.18|         4.3|\n",
      "|        4|2018-11-17 14:07:48|2018-11-17 14:33:29|              3|         8.01|       31.56|\n",
      "|        1|2018-10-04 07:28:23|2018-10-04 08:06:10|              3|          7.4|       33.88|\n",
      "|        1|2018-11-14 12:58:12|2018-11-14 13:41:06|              3|         12.5|          53|\n",
      "|        1|2018-12-19 18:18:36|2018-12-19 18:48:10|              3|          6.5|       30.96|\n",
      "|        1|2018-10-06 12:49:10|2018-10-06 13:52:59|              4|         33.8|      111.35|\n",
      "|        1|2018-11-06 15:34:24|2018-11-06 15:34:57|              4|            0|       78.35|\n",
      "|        1|2018-12-27 14:40:30|2018-12-27 15:13:49|              3|          4.4|       27.35|\n",
      "|        1|2018-12-16 03:50:11|2018-12-16 04:11:34|              3|          6.7|       27.37|\n",
      "|        1|2018-10-21 15:01:03|2018-10-21 15:35:16|              3|          5.5|       30.35|\n",
      "|        1|2018-10-06 07:02:15|2018-10-06 07:20:57|              3|         12.1|       40.55|\n",
      "|        1|2018-11-04 16:17:59|2018-11-04 16:46:12|              3|         13.6|        80.3|\n",
      "|        1|2018-10-05 16:50:02|2018-10-05 17:24:17|              3|          3.8|       28.55|\n",
      "|        1|2018-10-09 20:53:40|2018-10-09 21:19:10|              3|          9.2|       43.26|\n",
      "|        1|2018-10-04 10:39:51|2018-10-04 11:34:40|              3|          9.7|       54.66|\n",
      "|        1|2018-11-26 17:17:34|2018-11-26 17:55:39|              3|            4|       30.35|\n",
      "|        1|2018-12-06 23:53:04|2018-12-07 00:24:28|              3|          9.1|       38.15|\n",
      "|        1|2018-11-21 05:48:17|2018-11-21 06:18:12|              4|         16.8|       93.95|\n",
      "|        1|2018-10-19 22:07:39|2018-10-19 22:38:05|              3|          5.2|       27.95|\n",
      "+---------+-------------------+-------------------+---------------+-------------+------------+\n",
      "only showing top 20 rows\n",
      "\n"
     ]
    }
   ],
   "source": [
    "df.select([\"vendor_id\", \"pickup_datetime\", \"dropoff_datetime\", \"passenger_count\", \"trip_distance\", \"total_amount\"])\\\n",
    ".where((df['pickup_datetime'] >= '2018-10-01') & (df['passenger_count'] > 2)).show()"
   ]
  },
  {
   "cell_type": "markdown",
   "metadata": {},
   "source": [
    "## DataFrame Manipulation Command: Manipulate new column"
   ]
  },
  {
   "cell_type": "code",
   "execution_count": 13,
   "metadata": {},
   "outputs": [],
   "source": [
    "new_df = df.withColumn('new_do_location_id', df['do_location_id'].substr(1, 1))"
   ]
  },
  {
   "cell_type": "code",
   "execution_count": 14,
   "metadata": {},
   "outputs": [
    {
     "name": "stdout",
     "output_type": "stream",
     "text": [
      "+--------------+------------------+\n",
      "|do_location_id|new_do_location_id|\n",
      "+--------------+------------------+\n",
      "|           237|                 2|\n",
      "|            50|                 5|\n",
      "|           211|                 2|\n",
      "|           261|                 2|\n",
      "|           223|                 2|\n",
      "|           140|                 1|\n",
      "|            79|                 7|\n",
      "|            68|                 6|\n",
      "|           181|                 1|\n",
      "|           229|                 2|\n",
      "|           200|                 2|\n",
      "|            43|                 4|\n",
      "|           161|                 1|\n",
      "|           140|                 1|\n",
      "|           170|                 1|\n",
      "|           140|                 1|\n",
      "|           158|                 1|\n",
      "|           149|                 1|\n",
      "|            80|                 8|\n",
      "|           238|                 2|\n",
      "+--------------+------------------+\n",
      "only showing top 20 rows\n",
      "\n"
     ]
    }
   ],
   "source": [
    "new_df.select(['do_location_id', 'new_do_location_id']).show()"
   ]
  },
  {
   "cell_type": "markdown",
   "metadata": {},
   "source": [
    "## DataFrame Manipulation Command: `GROUP BY` and Aggregation Functions"
   ]
  },
  {
   "cell_type": "code",
   "execution_count": 15,
   "metadata": {},
   "outputs": [
    {
     "name": "stdout",
     "output_type": "stream",
     "text": [
      "+---------+---------------+-----------------+-----------------+------------------+--------------------+------------------+\n",
      "|vendor_id|passenger_count|max_trip_distance|min_trip_distance| avg_trip_distance|        total_amount|  avg_total_amount|\n",
      "+---------+---------------+-----------------+-----------------+------------------+--------------------+------------------+\n",
      "|      DDS|              0|              5.7|              0.9|3.3000000000000003|                25.1|             12.55|\n",
      "|        4|              1|             9.99|                0|  2.76998160073597|   52966.60000000008| 16.24244096902793|\n",
      "|        4|              2|             6.14|             0.38| 2.701836734693878|              774.04| 15.79673469387755|\n",
      "|      VTS|              5|             9.99|                0|  2.91708262452701|   6309126.489998391|12.862748095801782|\n",
      "|        1|              4|              9.9|                0| 3.451417493686197|    431124.310000006|17.874883287035367|\n",
      "|      VTS|            208|                0|                0|               0.0|                70.1| 4.673333333333333|\n",
      "|        2|              8|             6.19|                0| 4.517142857142857|              355.08|             59.18|\n",
      "|        1|              1|             99.9|                0| 5.647400981523901|1.6229563710006882E7| 15.53142610651886|\n",
      "|      DDS|              6|              6.1|              0.4|2.0500000000000003|  277.20000000000005| 9.240000000000002|\n",
      "|        2|              3|             9.99|                0|  2.99402363133253|  1219365.8099999637|16.267971582949286|\n",
      "|        2|              0|             8.91|                0|0.4101694915254237|             1617.58| 35.94622222222222|\n",
      "|      VTS|              3|             9.99|                0|  2.85960168535598|   2139864.470000026|12.907778756311192|\n",
      "|      VTS|            250|             3.19|             3.19|              3.19|                12.8|              12.8|\n",
      "|      DDS|              1|              9.9|                0| 2.887109615522296|   805461.8900000413|11.533785207990855|\n",
      "|        4|              4|             3.41|             0.78|              5.91|  114.71000000000001|28.677500000000002|\n",
      "|        2|              2|             9.99|                0|3.0235624628625604|  3890611.0299995863|16.425644594741183|\n",
      "|      VTS|              6|             9.99|                0|2.9420333153316185|  1928463.4399999965|14.073909971975686|\n",
      "|        1|              2|             97.6|                0|3.3416223562556886|  3097404.9499995755| 17.61460478949731|\n",
      "|        2|              6|             9.99|                0|2.9885851880014447|  1438778.3199999237|16.066759575655205|\n",
      "|      CMT|              1|             99.8|                0| 3.783718150921238| 3.309011422999672E7|12.630508787504626|\n",
      "+---------+---------------+-----------------+-----------------+------------------+--------------------+------------------+\n",
      "only showing top 20 rows\n",
      "\n"
     ]
    }
   ],
   "source": [
    "from pyspark.sql.functions import mean, min, max, count, sum\n",
    "\n",
    "df.groupBy(\"vendor_id\", \"passenger_count\")\\\n",
    ".agg(max(\"trip_distance\").alias(\"max_trip_distance\"), \\\n",
    "     min(\"trip_distance\").alias(\"min_trip_distance\"), \\\n",
    "     mean(\"trip_distance\").alias(\"avg_trip_distance\"), \\\n",
    "     sum(\"total_amount\").alias(\"total_amount\"), \\\n",
    "     mean(\"total_amount\").alias(\"avg_total_amount\")).show()"
   ]
  },
  {
   "cell_type": "markdown",
   "metadata": {},
   "source": [
    "## DataFrame Manipulation Command: `ORDER BY`"
   ]
  },
  {
   "cell_type": "code",
   "execution_count": 16,
   "metadata": {},
   "outputs": [
    {
     "name": "stdout",
     "output_type": "stream",
     "text": [
      "+---------+-------------+\n",
      "|vendor_id|trip_distance|\n",
      "+---------+-------------+\n",
      "|        1|         11.7|\n",
      "|        1|          6.7|\n",
      "|        1|         10.3|\n",
      "|        1|          4.3|\n",
      "|        1|          6.7|\n",
      "|        1|          9.1|\n",
      "|        1|          8.5|\n",
      "|        1|          9.3|\n",
      "|        1|         11.2|\n",
      "|        1|          9.6|\n",
      "|        1|          6.9|\n",
      "|        1|         12.7|\n",
      "|        1|          9.3|\n",
      "|        1|          7.6|\n",
      "|        1|          7.3|\n",
      "|        1|          6.3|\n",
      "|        1|          6.8|\n",
      "|        1|          5.6|\n",
      "|        1|          5.8|\n",
      "|        1|          7.2|\n",
      "+---------+-------------+\n",
      "only showing top 20 rows\n",
      "\n"
     ]
    }
   ],
   "source": [
    "df.select([\"vendor_id\", \"trip_distance\"]).orderBy('vendor_id', ascending=True).show()"
   ]
  },
  {
   "cell_type": "markdown",
   "metadata": {},
   "source": [
    "## DataFrame Manipulation Command: JOIN DataFrame"
   ]
  },
  {
   "cell_type": "code",
   "execution_count": 17,
   "metadata": {},
   "outputs": [],
   "source": [
    "fhv_bases_path = './dataset/fhv_bases.csv'\n",
    "\n",
    "fhv_bases_df = spark_con.read.csv(fhv_bases_path, header=True)"
   ]
  },
  {
   "cell_type": "code",
   "execution_count": 18,
   "metadata": {},
   "outputs": [
    {
     "name": "stdout",
     "output_type": "stream",
     "text": [
      "+-----------+--------------------+--------------------+------------+\n",
      "|base_number|           base_name|                 dba|dba_category|\n",
      "+-----------+--------------------+--------------------+------------+\n",
      "|     B02800|FLATIRON TRANSIT LLC|VIA-FLATIRON TRAN...|         via|\n",
      "|     B03136|GREENPOINT TRANSI...|VIA-GREENPOINT TR...|         via|\n",
      "|     B02907|        SABO ONE LLC|                JUNO|        juno|\n",
      "|     B02908|        SABO TWO LLC|                JUNO|        juno|\n",
      "|     B03035|           OMAHA LLC|                JUNO|        juno|\n",
      "|     B02914|     VULCAN CARS LLC|                JUNO|        juno|\n",
      "|     B02510|        TRI-CITY,LLC|       LYFT-TRI-CITY|        lyft|\n",
      "|     B02844|ENDOR CAR & DRIVE...|LYFT-ENDOR CAR & ...|        lyft|\n",
      "|     B02765|            GRUN LLC|       UBER-GRUN LLC|        uber|\n",
      "|     B02512|           UNTER LLC|      UBER-UNTER LLC|        uber|\n",
      "|     B02395|          ABATAR LLC|     UBER-ABATAR LLC|        uber|\n",
      "|     B02878|          ELF-NY,LLC|     UBER-ELF-NY,LLC|        uber|\n",
      "|     B02598|          HINTER LLC|     UBER-HINTER LLC|        uber|\n",
      "|     B02404|          KUCHEN,LLC|     UBER-KUCHEN LLC|        uber|\n",
      "|     B02617|          WEITER LLC|     UBER-WEITER LLC|        uber|\n",
      "|     B02871|         ACHT-NY,LLC|    UBER-ACHT-NY,LLC|        uber|\n",
      "|     B02872|         EINS-NY,LLC|    UBER-EINS-NY,LLC|        uber|\n",
      "|     B02867|        FUNF-NY, LLC|    UBER-FUNF-NY LLC|        uber|\n",
      "|     B02870|         NEUN-NY,LLC|    UBER-NEUN-NY LLC|        uber|\n",
      "|     B02865|         VIER-NY,LLC|    UBER-VIER-NY LLC|        uber|\n",
      "+-----------+--------------------+--------------------+------------+\n",
      "only showing top 20 rows\n",
      "\n"
     ]
    }
   ],
   "source": [
    "fhv_bases_df.show()"
   ]
  },
  {
   "cell_type": "code",
   "execution_count": 19,
   "metadata": {},
   "outputs": [],
   "source": [
    "fhv_tripdata_path = './dataset/fhv_tripdata/'\n",
    "\n",
    "fhv_tripdata_df = spark_con.read.csv(fhv_tripdata_path, header=True)"
   ]
  },
  {
   "cell_type": "code",
   "execution_count": 20,
   "metadata": {},
   "outputs": [
    {
     "name": "stdout",
     "output_type": "stream",
     "text": [
      "+--------------------+-------------------+-------------------+--------------+--------------+-------+\n",
      "|dispatching_base_num|    pickup_datetime|   dropoff_datetime|pu_location_id|do_location_id|sr_flag|\n",
      "+--------------------+-------------------+-------------------+--------------+--------------+-------+\n",
      "|              B00429|2019-04-02 12:37:00|2019-04-02 12:44:00|           264|           264|   null|\n",
      "|              B02800|2019-01-16 20:50:00|2019-01-16 21:09:52|            48|           262|   null|\n",
      "|              B02060|2019-02-05 22:06:46|2019-02-05 22:27:32|           138|           162|   null|\n",
      "|              B01065|2019-07-01 16:20:54|2019-07-01 16:27:48|           264|           265|   null|\n",
      "|              B02877|2019-01-30 09:39:08|2019-01-30 09:52:39|            78|           174|   null|\n",
      "|              B03055|2019-12-08 07:36:52|2019-12-08 07:59:32|           264|            17|   null|\n",
      "|              B00887|2019-06-09 12:00:48|2019-06-09 12:29:10|           264|           265|   null|\n",
      "|              B02879|2019-01-01 03:56:06|2019-01-01 04:04:59|            11|            29|   null|\n",
      "|              B02835|2019-01-26 07:48:20|2019-01-26 07:58:02|           100|           107|      2|\n",
      "|              B00449|2019-04-19 18:51:49|2019-04-19 18:57:43|           264|           264|   null|\n",
      "|              B02988|2019-03-04 08:11:04|2019-03-04 08:27:31|           264|           265|   null|\n",
      "|              B00318|2019-10-09 22:11:37|2019-10-09 22:11:38|           264|            61|   null|\n",
      "|              B02510|2019-01-16 16:18:55|2019-01-16 16:23:09|           183|           183|   null|\n",
      "|              B02510|2019-01-20 23:38:30|2019-01-20 23:49:01|            68|           164|      1|\n",
      "|              B02682|2019-01-15 06:19:09|2019-01-15 06:28:52|             4|            87|   null|\n",
      "|              B01312|2019-02-08 13:27:53|2019-02-08 13:39:56|           264|           265|   null|\n",
      "|              B03035|2019-01-06 02:49:33|2019-01-06 03:00:21|           264|           264|   null|\n",
      "|              B02867|2019-01-09 22:34:19|2019-01-09 22:41:14|           100|            48|   null|\n",
      "|              B02887|2019-01-08 18:56:26|2019-01-08 19:04:34|           125|           234|   null|\n",
      "|              B03040|2019-01-05 09:38:33|2019-01-05 10:05:08|           144|            61|   null|\n",
      "+--------------------+-------------------+-------------------+--------------+--------------+-------+\n",
      "only showing top 20 rows\n",
      "\n"
     ]
    }
   ],
   "source": [
    "fhv_tripdata_df.show()"
   ]
  },
  {
   "cell_type": "code",
   "execution_count": 21,
   "metadata": {},
   "outputs": [],
   "source": [
    "t1 = fhv_bases_df.alias('t1')\n",
    "t2 = fhv_tripdata_df.alias('t2')"
   ]
  },
  {
   "cell_type": "code",
   "execution_count": 22,
   "metadata": {},
   "outputs": [],
   "source": [
    "# Two DataFrames with Inner Join\n",
    "\n",
    "inner_join_df = t1.join(t2, t1.base_number == t2.dispatching_base_num)"
   ]
  },
  {
   "cell_type": "code",
   "execution_count": 23,
   "metadata": {},
   "outputs": [
    {
     "name": "stdout",
     "output_type": "stream",
     "text": [
      "+--------------------+--------------------+------------+-------------------+-------------------+\n",
      "|dispatching_base_num|           base_name|dba_category|    pickup_datetime|   dropoff_datetime|\n",
      "+--------------------+--------------------+------------+-------------------+-------------------+\n",
      "|              B00429|SURF CAR SYSTEMS INC|       other|2019-04-02 12:37:00|2019-04-02 12:44:00|\n",
      "|              B02800|FLATIRON TRANSIT LLC|         via|2019-01-16 20:50:00|2019-01-16 21:09:52|\n",
      "|              B02060|AMERICAN LIMOUSIN...|       other|2019-02-05 22:06:46|2019-02-05 22:27:32|\n",
      "|              B01065|EL BARRIO'S CAR S...|       other|2019-07-01 16:20:54|2019-07-01 16:27:48|\n",
      "|              B02877|       ZWOLF-NY, LLC|        uber|2019-01-30 09:39:08|2019-01-30 09:52:39|\n",
      "|              B03055|EXPLORER EXPRESS INC|       other|2019-12-08 07:36:52|2019-12-08 07:59:32|\n",
      "|              B00887|DIAL 7 CAR & LIMO...|       other|2019-06-09 12:00:48|2019-06-09 12:29:10|\n",
      "|              B02879|    FUNFZEHN-NY, LLC|        uber|2019-01-01 03:56:06|2019-01-01 04:04:59|\n",
      "|              B02835|       DREIST NY LLC|        uber|2019-01-26 07:48:20|2019-01-26 07:58:02|\n",
      "|              B00449|A KINGS HWY C/S INC.|       other|2019-04-19 18:51:49|2019-04-19 18:57:43|\n",
      "|              B02988|BED STAR DRIVERS ...|       other|2019-03-04 08:11:04|2019-03-04 08:27:31|\n",
      "|              B00318|APPLE RADIO CARS INC|       other|2019-10-09 22:11:37|2019-10-09 22:11:38|\n",
      "|              B02510|        TRI-CITY,LLC|        lyft|2019-01-16 16:18:55|2019-01-16 16:23:09|\n",
      "|              B02510|        TRI-CITY,LLC|        lyft|2019-01-20 23:38:30|2019-01-20 23:49:01|\n",
      "|              B02682|       SCHMECKEN LLC|        uber|2019-01-15 06:19:09|2019-01-15 06:28:52|\n",
      "|              B01312|BROOKLYN RAD DISP...|       other|2019-02-08 13:27:53|2019-02-08 13:39:56|\n",
      "|              B03035|           OMAHA LLC|        juno|2019-01-06 02:49:33|2019-01-06 03:00:21|\n",
      "|              B02867|        FUNF-NY, LLC|        uber|2019-01-09 22:34:19|2019-01-09 22:41:14|\n",
      "|              B02887|EINUNDZWANZIG-NY,...|        uber|2019-01-08 18:56:26|2019-01-08 19:04:34|\n",
      "|              B03040|   ZYT EXPRESS CORP.|       other|2019-01-05 09:38:33|2019-01-05 10:05:08|\n",
      "+--------------------+--------------------+------------+-------------------+-------------------+\n",
      "only showing top 20 rows\n",
      "\n"
     ]
    }
   ],
   "source": [
    "inner_join_df.select(['dispatching_base_num', 'base_name', 'dba_category', 'pickup_datetime', 'dropoff_datetime']).show()"
   ]
  },
  {
   "cell_type": "code",
   "execution_count": 24,
   "metadata": {},
   "outputs": [
    {
     "name": "stdout",
     "output_type": "stream",
     "text": [
      "+-----------+---------+----+------------+--------------------+-------------------+-------------------+--------------+--------------+-------+\n",
      "|base_number|base_name| dba|dba_category|dispatching_base_num|    pickup_datetime|   dropoff_datetime|pu_location_id|do_location_id|sr_flag|\n",
      "+-----------+---------+----+------------+--------------------+-------------------+-------------------+--------------+--------------+-------+\n",
      "|     B03035|OMAHA LLC|JUNO|        juno|              B03035|2019-01-06 02:49:33|2019-01-06 03:00:21|           264|           264|   null|\n",
      "|     B03035|OMAHA LLC|JUNO|        juno|              B03035|2019-01-01 02:15:08|2019-01-01 02:36:18|          null|          null|   null|\n",
      "|     B03035|OMAHA LLC|JUNO|        juno|              B03035|2019-01-08 18:37:52|2019-01-08 19:14:43|           264|           264|   null|\n",
      "|     B03035|OMAHA LLC|JUNO|        juno|              B03035|2019-01-06 17:47:16|2019-01-06 17:58:41|           264|           264|   null|\n",
      "|     B03035|OMAHA LLC|JUNO|        juno|              B03035|2019-01-02 16:46:27|2019-01-02 17:27:11|          null|          null|   null|\n",
      "|     B03035|OMAHA LLC|JUNO|        juno|              B03035|2019-01-06 15:17:10|2019-01-06 15:24:45|           264|           264|   null|\n",
      "|     B03035|OMAHA LLC|JUNO|        juno|              B03035|2019-01-07 09:19:43|2019-01-07 09:47:19|           264|           264|   null|\n",
      "|     B03035|OMAHA LLC|JUNO|        juno|              B03035|2019-01-11 14:26:11|2019-01-11 14:37:09|           264|           264|   null|\n",
      "|     B03035|OMAHA LLC|JUNO|        juno|              B03035|2019-01-09 17:06:41|2019-01-09 17:17:01|           264|           264|   null|\n",
      "|     B03035|OMAHA LLC|JUNO|        juno|              B03035|2019-01-04 22:13:37|2019-01-04 22:18:03|          null|          null|   null|\n",
      "|     B03035|OMAHA LLC|JUNO|        juno|              B03035|2019-01-10 23:42:36|2019-01-10 23:58:15|           264|           264|   null|\n",
      "|     B03035|OMAHA LLC|JUNO|        juno|              B03035|2019-01-03 20:20:18|2019-01-03 20:27:26|          null|          null|   null|\n",
      "|     B03035|OMAHA LLC|JUNO|        juno|              B03035|2019-01-09 23:49:45|2019-01-09 23:56:16|           264|           264|   null|\n",
      "|     B03035|OMAHA LLC|JUNO|        juno|              B03035|2019-01-02 18:27:58|2019-01-02 18:37:06|          null|          null|   null|\n",
      "|     B03035|OMAHA LLC|JUNO|        juno|              B03035|2019-01-04 11:43:56|2019-01-04 11:58:09|          null|          null|   null|\n",
      "|     B03035|OMAHA LLC|JUNO|        juno|              B03035|2019-01-10 03:52:47|2019-01-10 04:07:35|           264|           264|   null|\n",
      "|     B03035|OMAHA LLC|JUNO|        juno|              B03035|2019-01-12 00:00:01|2019-01-12 00:21:46|           264|           264|   null|\n",
      "|     B03035|OMAHA LLC|JUNO|        juno|              B03035|2019-01-01 00:09:39|2019-01-01 00:19:57|          null|          null|   null|\n",
      "|     B03035|OMAHA LLC|JUNO|        juno|              B03035|2019-01-12 09:47:21|2019-01-12 10:20:28|           264|           264|   null|\n",
      "|     B03035|OMAHA LLC|JUNO|        juno|              B03035|2019-01-12 14:14:24|2019-01-12 14:24:37|           264|           264|   null|\n",
      "+-----------+---------+----+------------+--------------------+-------------------+-------------------+--------------+--------------+-------+\n",
      "only showing top 20 rows\n",
      "\n"
     ]
    }
   ],
   "source": [
    "# Two DataFrames with Left Join, Right Join, and Full Join\n",
    "# Just add parameter `how` in Join with values ['left', 'right', 'full', 'full_outer']\n",
    "\n",
    "t1.join(t2, t1.base_number == t2.dispatching_base_num, how=\"left\").show()"
   ]
  },
  {
   "cell_type": "markdown",
   "metadata": {},
   "source": [
    "## Use SQL in PySpark"
   ]
  },
  {
   "cell_type": "code",
   "execution_count": 25,
   "metadata": {},
   "outputs": [],
   "source": [
    "df.createTempView(\"yellow_tripdata\")"
   ]
  },
  {
   "cell_type": "code",
   "execution_count": 26,
   "metadata": {},
   "outputs": [],
   "source": [
    "sql_stmt = '''\n",
    "    SELECT\n",
    "        vendor_id,\n",
    "        pickup_datetime,\n",
    "        dropoff_datetime\n",
    "    FROM yellow_tripdata\n",
    "    LIMIT 10\n",
    "'''\n",
    "\n",
    "result_df = spark_con.sql(sql_stmt)"
   ]
  },
  {
   "cell_type": "code",
   "execution_count": 27,
   "metadata": {},
   "outputs": [
    {
     "name": "stdout",
     "output_type": "stream",
     "text": [
      "+---------+-------------------+-------------------+\n",
      "|vendor_id|    pickup_datetime|   dropoff_datetime|\n",
      "+---------+-------------------+-------------------+\n",
      "|        4|2018-07-30 14:24:04|2018-07-30 14:44:31|\n",
      "|        4|2018-10-07 18:26:38|2018-10-07 19:00:11|\n",
      "|        4|2018-11-17 10:24:50|2018-11-17 11:02:06|\n",
      "|        4|2018-10-25 23:24:00|2018-10-25 23:48:18|\n",
      "|        4|2018-09-09 01:34:52|2018-09-09 01:58:59|\n",
      "|        4|2018-11-15 07:45:38|2018-11-15 07:48:02|\n",
      "|        4|2018-10-09 11:56:57|2018-10-09 12:38:42|\n",
      "|        4|2018-10-17 20:03:19|2018-10-17 20:30:33|\n",
      "|        4|2018-11-29 22:46:35|2018-11-29 23:17:38|\n",
      "|        4|2018-10-05 09:15:01|2018-10-05 09:49:16|\n",
      "+---------+-------------------+-------------------+\n",
      "\n"
     ]
    }
   ],
   "source": [
    "result_df.show()"
   ]
  },
  {
   "cell_type": "code",
   "execution_count": 28,
   "metadata": {},
   "outputs": [],
   "source": [
    "fhv_bases_df.createTempView(\"fhv_bases\")"
   ]
  },
  {
   "cell_type": "code",
   "execution_count": 29,
   "metadata": {},
   "outputs": [],
   "source": [
    "fhv_tripdata_df.createTempView(\"fhv_tripdata\")"
   ]
  },
  {
   "cell_type": "code",
   "execution_count": 30,
   "metadata": {},
   "outputs": [
    {
     "name": "stdout",
     "output_type": "stream",
     "text": [
      "+------------+-----------+\n",
      "|dba_category|total_count|\n",
      "+------------+-----------+\n",
      "|        lyft|    1285023|\n",
      "|       other|    2018225|\n",
      "|        juno|     466501|\n",
      "|        uber|    5633662|\n",
      "|         via|     439202|\n",
      "+------------+-----------+\n",
      "\n"
     ]
    }
   ],
   "source": [
    "sql_stmt_two = '''\n",
    "    SELECT\n",
    "        t.dba_category,\n",
    "        COUNT(*) AS total_count\n",
    "    FROM (\n",
    "            SELECT\n",
    "                ft.dispatching_base_num,\n",
    "                fb.dba_category\n",
    "            FROM fhv_tripdata AS ft\n",
    "            LEFT JOIN fhv_bases AS fb\n",
    "            ON\n",
    "                ft.dispatching_base_num = fb.base_number\n",
    "    ) AS t\n",
    "    WHERE\n",
    "        t.dba_category IS NOT NULL\n",
    "    GROUP BY\n",
    "        t.dba_category\n",
    "'''\n",
    "\n",
    "spark_con.sql(sql_stmt_two).show()"
   ]
  },
  {
   "cell_type": "markdown",
   "metadata": {},
   "source": [
    "## Write DataFrame into File"
   ]
  },
  {
   "cell_type": "code",
   "execution_count": 31,
   "metadata": {},
   "outputs": [],
   "source": [
    "result_df.coalesce(1).write.format(\"csv\").option(\"header\", \"true\").save(\"./output/query_result\")"
   ]
  },
  {
   "cell_type": "code",
   "execution_count": null,
   "metadata": {},
   "outputs": [],
   "source": []
  }
 ],
 "metadata": {
  "kernelspec": {
   "display_name": "Python 3",
   "language": "python",
   "name": "python3"
  },
  "language_info": {
   "codemirror_mode": {
    "name": "ipython",
    "version": 3
   },
   "file_extension": ".py",
   "mimetype": "text/x-python",
   "name": "python",
   "nbconvert_exporter": "python",
   "pygments_lexer": "ipython3",
   "version": "3.7.6"
  }
 },
 "nbformat": 4,
 "nbformat_minor": 4
}
