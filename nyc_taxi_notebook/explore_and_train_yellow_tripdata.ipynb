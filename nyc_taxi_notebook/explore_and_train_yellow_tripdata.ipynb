{
 "cells": [
  {
   "cell_type": "markdown",
   "metadata": {},
   "source": [
    "# PySpark 101"
   ]
  },
  {
   "cell_type": "markdown",
   "metadata": {},
   "source": [
    "> This notebook uses one chunk of yellow trip data from NYC Taxi Data\n",
    "\n",
    "## Overview\n",
    "- Basic Operation\n",
    "- Manipulate DataFrame\n",
    "- Manipulate DataFrame using SQL Statement\n",
    "- Simple Machine Learning with Logistic Regression"
   ]
  },
  {
   "cell_type": "markdown",
   "metadata": {},
   "source": [
    "## Basic Operation"
   ]
  },
  {
   "cell_type": "code",
   "execution_count": 1,
   "metadata": {},
   "outputs": [],
   "source": [
    "import findspark\n",
    "\n",
    "findspark.init('/home/artthanan/spark-2.4.5-bin-hadoop2.7')"
   ]
  },
  {
   "cell_type": "code",
   "execution_count": 2,
   "metadata": {},
   "outputs": [],
   "source": [
    "from pyspark.sql import SparkSession\n",
    "\n",
    "spark = SparkSession.builder.appName(\"Example\").getOrCreate()"
   ]
  },
  {
   "cell_type": "code",
   "execution_count": 3,
   "metadata": {},
   "outputs": [],
   "source": [
    "csv_file_path = 'nyc-taxi-data_export_data_yellow_tripdata_yellow_tripdata_000000000044.csv'\n",
    "\n",
    "df = spark.read.csv(csv_file_path, inferSchema=True, header=True)"
   ]
  },
  {
   "cell_type": "code",
   "execution_count": 4,
   "metadata": {},
   "outputs": [
    {
     "data": {
      "text/plain": [
       "['vendor_id',\n",
       " 'pickup_datetime',\n",
       " 'dropoff_datetime',\n",
       " 'passenger_count',\n",
       " 'trip_distance',\n",
       " 'pickup_longtitude',\n",
       " 'pickup_latitude',\n",
       " 'pu_location_id',\n",
       " 'rate_code_id',\n",
       " 'store_and_fwd_flag',\n",
       " 'dropoff_longtitude',\n",
       " 'dropoff_latitude',\n",
       " 'do_location_id',\n",
       " 'payment_type',\n",
       " 'fare_amount',\n",
       " 'extra',\n",
       " 'improvement_surcharge',\n",
       " 'mta_tax',\n",
       " 'tip_amount',\n",
       " 'tolls_amount',\n",
       " 'total_amount',\n",
       " 'consgestion_surcharge']"
      ]
     },
     "execution_count": 4,
     "metadata": {},
     "output_type": "execute_result"
    }
   ],
   "source": [
    "df.columns"
   ]
  },
  {
   "cell_type": "code",
   "execution_count": 5,
   "metadata": {},
   "outputs": [
    {
     "name": "stdout",
     "output_type": "stream",
     "text": [
      "root\n",
      " |-- vendor_id: string (nullable = true)\n",
      " |-- pickup_datetime: timestamp (nullable = true)\n",
      " |-- dropoff_datetime: timestamp (nullable = true)\n",
      " |-- passenger_count: integer (nullable = true)\n",
      " |-- trip_distance: double (nullable = true)\n",
      " |-- pickup_longtitude: double (nullable = true)\n",
      " |-- pickup_latitude: string (nullable = true)\n",
      " |-- pu_location_id: integer (nullable = true)\n",
      " |-- rate_code_id: integer (nullable = true)\n",
      " |-- store_and_fwd_flag: boolean (nullable = true)\n",
      " |-- dropoff_longtitude: double (nullable = true)\n",
      " |-- dropoff_latitude: double (nullable = true)\n",
      " |-- do_location_id: integer (nullable = true)\n",
      " |-- payment_type: integer (nullable = true)\n",
      " |-- fare_amount: double (nullable = true)\n",
      " |-- extra: string (nullable = true)\n",
      " |-- improvement_surcharge: double (nullable = true)\n",
      " |-- mta_tax: double (nullable = true)\n",
      " |-- tip_amount: double (nullable = true)\n",
      " |-- tolls_amount: double (nullable = true)\n",
      " |-- total_amount: double (nullable = true)\n",
      " |-- consgestion_surcharge: double (nullable = true)\n",
      "\n"
     ]
    }
   ],
   "source": [
    "df.printSchema()"
   ]
  },
  {
   "cell_type": "code",
   "execution_count": 6,
   "metadata": {},
   "outputs": [
    {
     "data": {
      "text/plain": [
       "[Row(vendor_id='1', pickup_datetime=datetime.datetime(2017, 9, 22, 12, 7, 56), dropoff_datetime=datetime.datetime(2017, 9, 22, 12, 36, 34), passenger_count=4, trip_distance=3.8, pickup_longtitude=None, pickup_latitude=None, pu_location_id=230, rate_code_id=1, store_and_fwd_flag=False, dropoff_longtitude=None, dropoff_latitude=None, do_location_id=148, payment_type=2, fare_amount=19.5, extra=None, improvement_surcharge=0.3, mta_tax=0.5, tip_amount=0.0, tolls_amount=0.0, total_amount=20.3, consgestion_surcharge=None),\n",
       " Row(vendor_id='1', pickup_datetime=datetime.datetime(2018, 10, 11, 21, 41, 3), dropoff_datetime=datetime.datetime(2018, 10, 11, 22, 2, 40), passenger_count=1, trip_distance=4.5, pickup_longtitude=None, pickup_latitude=None, pu_location_id=261, rate_code_id=1, store_and_fwd_flag=False, dropoff_longtitude=None, dropoff_latitude=None, do_location_id=50, payment_type=1, fare_amount=18.0, extra=None, improvement_surcharge=0.3, mta_tax=0.5, tip_amount=2.7, tolls_amount=0.0, total_amount=22.0, consgestion_surcharge=None),\n",
       " Row(vendor_id='2', pickup_datetime=datetime.datetime(2018, 2, 7, 14, 20, 53), dropoff_datetime=datetime.datetime(2018, 2, 7, 14, 52, 58), passenger_count=1, trip_distance=5.92, pickup_longtitude=None, pickup_latitude=None, pu_location_id=238, rate_code_id=1, store_and_fwd_flag=False, dropoff_longtitude=None, dropoff_latitude=None, do_location_id=113, payment_type=1, fare_amount=24.5, extra=None, improvement_surcharge=0.3, mta_tax=0.5, tip_amount=3.0, tolls_amount=0.0, total_amount=28.3, consgestion_surcharge=None),\n",
       " Row(vendor_id='2', pickup_datetime=datetime.datetime(2018, 1, 1, 10, 47, 27), dropoff_datetime=datetime.datetime(2018, 1, 1, 11, 12, 26), passenger_count=1, trip_distance=12.32, pickup_longtitude=None, pickup_latitude=None, pu_location_id=148, rate_code_id=1, store_and_fwd_flag=False, dropoff_longtitude=None, dropoff_latitude=None, do_location_id=130, payment_type=2, fare_amount=34.0, extra=None, improvement_surcharge=0.3, mta_tax=0.5, tip_amount=0.0, tolls_amount=0.0, total_amount=34.8, consgestion_surcharge=None),\n",
       " Row(vendor_id='2', pickup_datetime=datetime.datetime(2017, 4, 19, 15, 30, 26), dropoff_datetime=datetime.datetime(2017, 4, 19, 16, 7, 42), passenger_count=1, trip_distance=9.97, pickup_longtitude=None, pickup_latitude=None, pu_location_id=138, rate_code_id=1, store_and_fwd_flag=False, dropoff_longtitude=None, dropoff_latitude=None, do_location_id=237, payment_type=1, fare_amount=33.0, extra=None, improvement_surcharge=0.3, mta_tax=0.5, tip_amount=7.91, tolls_amount=5.76, total_amount=47.47, consgestion_surcharge=None)]"
      ]
     },
     "execution_count": 6,
     "metadata": {},
     "output_type": "execute_result"
    }
   ],
   "source": [
    "df.head(5)"
   ]
  },
  {
   "cell_type": "code",
   "execution_count": 7,
   "metadata": {},
   "outputs": [
    {
     "name": "stdout",
     "output_type": "stream",
     "text": [
      "+---------+-------------------+-------------------+---------------+-------------+------------------+------------------+--------------+------------+------------------+------------------+------------------+--------------+------------+-----------+-----+---------------------+-------+----------+------------+------------+---------------------+\n",
      "|vendor_id|    pickup_datetime|   dropoff_datetime|passenger_count|trip_distance| pickup_longtitude|   pickup_latitude|pu_location_id|rate_code_id|store_and_fwd_flag|dropoff_longtitude|  dropoff_latitude|do_location_id|payment_type|fare_amount|extra|improvement_surcharge|mta_tax|tip_amount|tolls_amount|total_amount|consgestion_surcharge|\n",
      "+---------+-------------------+-------------------+---------------+-------------+------------------+------------------+--------------+------------+------------------+------------------+------------------+--------------+------------+-----------+-----+---------------------+-------+----------+------------+------------+---------------------+\n",
      "|        1|2017-09-22 12:07:56|2017-09-22 12:36:34|              4|          3.8|              null|              null|           230|           1|             false|              null|              null|           148|           2|       19.5| null|                  0.3|    0.5|       0.0|         0.0|        20.3|                 null|\n",
      "|        1|2018-10-11 21:41:03|2018-10-11 22:02:40|              1|          4.5|              null|              null|           261|           1|             false|              null|              null|            50|           1|       18.0| null|                  0.3|    0.5|       2.7|         0.0|        22.0|                 null|\n",
      "|        2|2018-02-07 14:20:53|2018-02-07 14:52:58|              1|         5.92|              null|              null|           238|           1|             false|              null|              null|           113|           1|       24.5| null|                  0.3|    0.5|       3.0|         0.0|        28.3|                 null|\n",
      "|        2|2018-01-01 10:47:27|2018-01-01 11:12:26|              1|        12.32|              null|              null|           148|           1|             false|              null|              null|           130|           2|       34.0| null|                  0.3|    0.5|       0.0|         0.0|        34.8|                 null|\n",
      "|        2|2017-04-19 15:30:26|2017-04-19 16:07:42|              1|         9.97|              null|              null|           138|           1|             false|              null|              null|           237|           1|       33.0| null|                  0.3|    0.5|      7.91|        5.76|       47.47|                 null|\n",
      "|        2|2018-10-18 11:13:23|2018-10-18 11:34:36|              2|         4.48|              null|              null|           262|           1|             false|              null|              null|            50|           1|       18.0| null|                  0.3|    0.5|      3.76|         0.0|       22.56|                 null|\n",
      "|        1|2016-02-08 15:08:09|2016-02-08 15:30:45|              1|          6.2|-74.01348876953125|40.704475402832031|          null|           1|              null|  -73.982177734375|40.758216857910156|          null|           1|       22.5| null|                  0.3|    0.5|      4.65|         0.0|       27.95|                 null|\n",
      "|        2|2017-05-23 23:12:21|2017-05-23 23:36:28|              1|         6.31|              null|              null|            90|           1|             false|              null|              null|           260|           1|       22.5| null|                  0.3|    0.5|      4.76|         0.0|       28.56|                 null|\n",
      "|        2|2018-10-02 07:45:54|2018-10-02 07:58:23|              2|          5.5|              null|              null|           137|           1|             false|              null|              null|            65|           1|       18.0| null|                  0.3|    0.5|      3.76|         0.0|       22.56|                 null|\n",
      "|     null|2019-07-02 12:16:00|2019-07-02 12:36:00|           null|        10.58|              null|              null|           262|        null|              null|              null|              null|            95|        null|      29.59| null|                  0.3|    0.5|       0.0|        6.12|       39.26|                  0.0|\n",
      "|        1|2015-02-17 21:02:31|2015-02-17 21:27:01|              2|          5.9|-74.00267791748047|40.730461120605469|          null|           1|             false| -73.9858169555664| 40.66584014892578|          null|           1|       21.5| null|                  0.3|    0.5|       5.7|         0.0|        28.5|                 null|\n",
      "|        2|2017-01-21 02:23:48|2017-01-21 02:49:05|              6|         8.08|              null|              null|            45|           1|             false|              null|              null|           196|           2|       24.5| null|                  0.3|    0.5|       0.0|         0.0|        25.8|                 null|\n",
      "|        2|2017-02-08 16:49:10|2017-02-08 17:26:40|              5|         12.9|              null|              null|           231|           3|             false|              null|              null|             1|           1|       57.0| null|                  0.3|    0.0|      10.0|        12.5|        80.8|                 null|\n",
      "|        1|2017-05-22 02:28:22|2017-05-22 02:47:51|              1|          6.2|              null|              null|           144|           1|             false|              null|              null|           177|           2|       20.5| null|                  0.3|    0.5|       0.0|         0.0|        21.8|                 null|\n",
      "|        2|2018-08-24 06:59:44|2018-08-24 07:29:56|              1|         4.07|              null|              null|           262|           1|             false|              null|              null|           224|           1|       22.5| null|                  0.3|    0.5|      2.33|         0.0|       25.63|                 null|\n",
      "|        2|2015-12-11 01:04:57|2015-12-11 01:31:41|              1|         7.17|-73.97978973388672|  40.7608757019043|          null|           1|             false|-73.90774536132812|40.706233978271484|          null|           2|       25.5| null|                  0.3|    0.5|       0.0|         0.0|        26.8|                 null|\n",
      "|        2|2017-03-27 12:30:21|2017-03-27 12:56:18|              2|         8.41|              null|              null|            75|           1|             false|              null|              null|           138|           1|       29.0| null|                  0.3|    0.5|      7.11|        5.76|       42.67|                 null|\n",
      "|        1|2016-04-30 14:50:05|2016-04-30 15:15:31|              1|          5.1|-73.96088409423828|40.780776977539063|          null|           1|              null|-74.00955963134766| 40.73942184448242|          null|           1|       20.5| null|                  0.3|    0.5|       3.0|         0.0|        24.3|                 null|\n",
      "|        1|2018-10-08 16:26:42|2018-10-08 16:45:47|              1|          7.0|              null|              null|            88|           1|             false|              null|              null|           263|           1|       21.5| null|                  0.3|    0.5|       1.0|         0.0|        23.3|                 null|\n",
      "|        1|2019-02-07 22:38:24|2019-02-07 23:06:19|              2|          8.0|              null|              null|           138|           1|             false|              null|              null|           229|           1|       28.0| null|                  0.3|    0.5|      6.35|         0.0|       38.15|                  2.5|\n",
      "+---------+-------------------+-------------------+---------------+-------------+------------------+------------------+--------------+------------+------------------+------------------+------------------+--------------+------------+-----------+-----+---------------------+-------+----------+------------+------------+---------------------+\n",
      "only showing top 20 rows\n",
      "\n"
     ]
    }
   ],
   "source": [
    "df.show()"
   ]
  },
  {
   "cell_type": "code",
   "execution_count": 8,
   "metadata": {},
   "outputs": [
    {
     "name": "stdout",
     "output_type": "stream",
     "text": [
      "+-------+------------------+-----------------+-----------------+------------------+-----------------+-----------------+-----------------+------------------+------------------+------------------+------------------+------------------+-----+---------------------+-------------------+------------------+------------------+------------------+---------------------+\n",
      "|summary|         vendor_id|  passenger_count|    trip_distance| pickup_longtitude|  pickup_latitude|   pu_location_id|     rate_code_id|dropoff_longtitude|  dropoff_latitude|    do_location_id|      payment_type|       fare_amount|extra|improvement_surcharge|            mta_tax|        tip_amount|      tolls_amount|      total_amount|consgestion_surcharge|\n",
      "+-------+------------------+-----------------+-----------------+------------------+-----------------+-----------------+-----------------+------------------+------------------+------------------+------------------+------------------+-----+---------------------+-------------------+------------------+------------------+------------------+---------------------+\n",
      "|  count|           7180418|          7180418|          7181707|           5804401|          5804401|          1377306|          6423437|           5804374|           5804374|           1377306|           2513169|           7181707|    0|              6907732|            6556483|           7181707|           7181707|           6907732|               394585|\n",
      "|   mean|1.5634307771870732|1.665898976911929|7.683866597453806|-69.07475886057186|39.94628365327288|163.0234218104038|7.910721472009455|-69.07224738008227| 38.69110420199041|161.13668059240285| 1.255477447000182|11.261817501048041| null|   0.3009252848821422|0.48914917799678903|1.2871277789536377|0.8735909958459813|14.258521238239611|   2.1869787244826844|\n",
      "| stddev|  0.50395298827281|1.308305475175462|6398.732844042879|19.740027776369256|8.706057288583805| 66.3996347330871|35.36115801662156|  19.6856400122237|10.702965489616513| 70.46710468729331|0.5659817964798755|10.239972602188576| null|   0.2980918523250138| 0.4011296425998084|2.1965462325213294|  4.37007001579378|12.357588205142822|   0.8386698289591342|\n",
      "|    min|                 1|                0|           -23.05|      -3386.102778|        -0.000132|                1|                0|      -3441.981232|      -3460.069453|                 1|                -1|            -300.0| null|                 -1.0|              -5.54|            -80.08|            -165.3|            -300.8|                 -2.5|\n",
      "|    25%|               1.0|                1|              1.0|        -73.991554|        40.735038|              114|                1|-73.99092102050781|         40.730032|               107|                 1|               6.0| null|                  0.0|                0.5|               0.0|               0.0|               7.6|                  2.5|\n",
      "|    50%|               2.0|                1|              1.7|        -73.980822|        40.752693|              162|                1|        -73.978953|         40.751796|               162|                 1|               8.5| null|                  0.3|                0.5|               0.3|               0.0|              10.6|                  2.5|\n",
      "|    75%|               2.0|                2|             3.13|         -73.96323|          40.7672|              233|                1|        -73.959687|         40.767302|               233|                 2|              13.0| null|                  0.5|                0.5|               2.0|               0.0|              15.9|                  2.5|\n",
      "|    max|               VTS|              208|     1.18000052E7|       3456.202598|                Y|              265|              265|       3456.137598|       3308.117352|               265|                 8|           4587.59| null|               137.63|             652.38|             499.0|           1000.66|           4725.22|                 2.75|\n",
      "+-------+------------------+-----------------+-----------------+------------------+-----------------+-----------------+-----------------+------------------+------------------+------------------+------------------+------------------+-----+---------------------+-------------------+------------------+------------------+------------------+---------------------+\n",
      "\n"
     ]
    }
   ],
   "source": [
    "df.summary().show()"
   ]
  },
  {
   "cell_type": "markdown",
   "metadata": {},
   "source": [
    "## Manipulate DataFrame "
   ]
  },
  {
   "cell_type": "code",
   "execution_count": 9,
   "metadata": {},
   "outputs": [
    {
     "name": "stdout",
     "output_type": "stream",
     "text": [
      "+---------+-------------------+-------------------+\n",
      "|vendor_id|    pickup_datetime|   dropoff_datetime|\n",
      "+---------+-------------------+-------------------+\n",
      "|        1|2017-09-22 12:07:56|2017-09-22 12:36:34|\n",
      "|        1|2018-10-11 21:41:03|2018-10-11 22:02:40|\n",
      "|        2|2018-02-07 14:20:53|2018-02-07 14:52:58|\n",
      "|        2|2018-01-01 10:47:27|2018-01-01 11:12:26|\n",
      "|        2|2017-04-19 15:30:26|2017-04-19 16:07:42|\n",
      "|        2|2018-10-18 11:13:23|2018-10-18 11:34:36|\n",
      "|        1|2016-02-08 15:08:09|2016-02-08 15:30:45|\n",
      "|        2|2017-05-23 23:12:21|2017-05-23 23:36:28|\n",
      "|        2|2018-10-02 07:45:54|2018-10-02 07:58:23|\n",
      "|     null|2019-07-02 12:16:00|2019-07-02 12:36:00|\n",
      "|        1|2015-02-17 21:02:31|2015-02-17 21:27:01|\n",
      "|        2|2017-01-21 02:23:48|2017-01-21 02:49:05|\n",
      "|        2|2017-02-08 16:49:10|2017-02-08 17:26:40|\n",
      "|        1|2017-05-22 02:28:22|2017-05-22 02:47:51|\n",
      "|        2|2018-08-24 06:59:44|2018-08-24 07:29:56|\n",
      "|        2|2015-12-11 01:04:57|2015-12-11 01:31:41|\n",
      "|        2|2017-03-27 12:30:21|2017-03-27 12:56:18|\n",
      "|        1|2016-04-30 14:50:05|2016-04-30 15:15:31|\n",
      "|        1|2018-10-08 16:26:42|2018-10-08 16:45:47|\n",
      "|        1|2019-02-07 22:38:24|2019-02-07 23:06:19|\n",
      "+---------+-------------------+-------------------+\n",
      "only showing top 20 rows\n",
      "\n"
     ]
    }
   ],
   "source": [
    "df.select(['vendor_id', 'pickup_datetime', 'dropoff_datetime']).show()"
   ]
  },
  {
   "cell_type": "code",
   "execution_count": 10,
   "metadata": {},
   "outputs": [
    {
     "name": "stdout",
     "output_type": "stream",
     "text": [
      "+-----------------+----------------+----------------+---------------------------------------------+\n",
      "|mean_total_amount|min_total_amount|max_total_amount|correlation_btw_payment_type_and_total_amount|\n",
      "+-----------------+----------------+----------------+---------------------------------------------+\n",
      "|16.33927471692185|             0.0|         2021.17|                         -0.13309223576965123|\n",
      "+-----------------+----------------+----------------+---------------------------------------------+\n",
      "\n"
     ]
    }
   ],
   "source": [
    "from pyspark.sql.functions import mean, min, max, corr\n",
    "\n",
    "temp_df = df.where(df['vendor_id'] == '1')\n",
    "\n",
    "temp_df.select(\n",
    "    mean('total_amount').alias('mean_total_amount'),\n",
    "    min('total_amount').alias('min_total_amount'), \n",
    "    max('total_amount').alias('max_total_amount'),\n",
    "    corr('payment_type', 'total_amount').alias('correlation_btw_payment_type_and_total_amount')\n",
    ").show()\n",
    "\n",
    "# corr is  based on Pearson Correlation Coefficient "
   ]
  },
  {
   "cell_type": "code",
   "execution_count": 11,
   "metadata": {},
   "outputs": [
    {
     "name": "stdout",
     "output_type": "stream",
     "text": [
      "+---------+--------------------+------------------+----------------------+-------------------+-----------------+-----------------------+---------------------+-------------------+-----------------+----------------+--------------------------+------------+---------------+-----------------+-----------------+--------------------------+\n",
      "|vendor_id|max(passenger_count)|max(trip_distance)|max(pickup_longtitude)|max(pu_location_id)|max(rate_code_id)|max(dropoff_longtitude)|max(dropoff_latitude)|max(do_location_id)|max(payment_type)|max(fare_amount)|max(improvement_surcharge)|max(mta_tax)|max(tip_amount)|max(tolls_amount)|max(total_amount)|max(consgestion_surcharge)|\n",
      "+---------+--------------------+------------------+----------------------+-------------------+-----------------+-----------------------+---------------------+-------------------+-----------------+----------------+--------------------------+------------+---------------+-----------------+-----------------+--------------------------+\n",
      "|      CMT|                   9|         7000000.0|            172.011029|               null|              210|             172.011029|            65.057548|               null|             null|           499.0|                      11.5|       31.72|          154.5|             40.0|            562.5|                      null|\n",
      "|        3|                   1|              8.38|                   1.0|               null|              263|                    2.0|                 32.5|               null|                1|             0.5|                      null|         0.0|            0.3|             34.3|             null|                      null|\n",
      "|     null|                null|             35.36|                  null|                264|             null|                   null|                 null|                265|             null|           120.0|                       0.3|         0.5|          10.98|            58.95|            120.8|                       2.5|\n",
      "|      VTS|                 208|              99.7|           3456.202598|               null|              128|            3456.137598|          3308.117352|               null|             null|          1554.0|                       8.5|         2.5|          200.0|             32.3|           1556.0|                      null|\n",
      "|      DDS|                   6|              42.8|                   0.0|               null|                5|                    0.0|            41.366138|               null|             null|           175.0|                       1.5|         0.5|           61.5|             20.0|            200.0|                      null|\n",
      "|        1|                   8|      1.18000052E7|                  99.0|                265|              265|                    4.0|                310.0|                265|                8|         2020.37|                       0.3|      652.38|          499.0|          1000.66|          2021.17|                       2.5|\n",
      "|        4|                   4|             28.26|                  null|                265|               99|                   null|                 null|                265|                2|           125.0|                       0.3|         0.5|           40.0|             36.5|           165.96|                       2.5|\n",
      "|        2|                   9|            138.64|                  99.0|                265|              265|                    4.0|                299.0|                265|                4|         4587.59|                    137.63|       89.05|          478.0|           325.88|          4725.22|                      2.75|\n",
      "+---------+--------------------+------------------+----------------------+-------------------+-----------------+-----------------------+---------------------+-------------------+-----------------+----------------+--------------------------+------------+---------------+-----------------+-----------------+--------------------------+\n",
      "\n"
     ]
    }
   ],
   "source": [
    "df.groupby(df['vendor_id']).max().show()"
   ]
  },
  {
   "cell_type": "markdown",
   "metadata": {},
   "source": [
    "## Manipulate DataFrame using SQL Statement"
   ]
  },
  {
   "cell_type": "code",
   "execution_count": 12,
   "metadata": {},
   "outputs": [],
   "source": [
    "df.createTempView(\"yellow_tripdata\")"
   ]
  },
  {
   "cell_type": "code",
   "execution_count": 13,
   "metadata": {},
   "outputs": [],
   "source": [
    "result = spark.sql('SELECT * FROM yellow_tripdata')"
   ]
  },
  {
   "cell_type": "code",
   "execution_count": 14,
   "metadata": {},
   "outputs": [
    {
     "name": "stdout",
     "output_type": "stream",
     "text": [
      "+---------+-------------------+-------------------+---------------+-------------+------------------+------------------+--------------+------------+------------------+------------------+------------------+--------------+------------+-----------+-----+---------------------+-------+----------+------------+------------+---------------------+\n",
      "|vendor_id|    pickup_datetime|   dropoff_datetime|passenger_count|trip_distance| pickup_longtitude|   pickup_latitude|pu_location_id|rate_code_id|store_and_fwd_flag|dropoff_longtitude|  dropoff_latitude|do_location_id|payment_type|fare_amount|extra|improvement_surcharge|mta_tax|tip_amount|tolls_amount|total_amount|consgestion_surcharge|\n",
      "+---------+-------------------+-------------------+---------------+-------------+------------------+------------------+--------------+------------+------------------+------------------+------------------+--------------+------------+-----------+-----+---------------------+-------+----------+------------+------------+---------------------+\n",
      "|        1|2017-09-22 12:07:56|2017-09-22 12:36:34|              4|          3.8|              null|              null|           230|           1|             false|              null|              null|           148|           2|       19.5| null|                  0.3|    0.5|       0.0|         0.0|        20.3|                 null|\n",
      "|        1|2018-10-11 21:41:03|2018-10-11 22:02:40|              1|          4.5|              null|              null|           261|           1|             false|              null|              null|            50|           1|       18.0| null|                  0.3|    0.5|       2.7|         0.0|        22.0|                 null|\n",
      "|        2|2018-02-07 14:20:53|2018-02-07 14:52:58|              1|         5.92|              null|              null|           238|           1|             false|              null|              null|           113|           1|       24.5| null|                  0.3|    0.5|       3.0|         0.0|        28.3|                 null|\n",
      "|        2|2018-01-01 10:47:27|2018-01-01 11:12:26|              1|        12.32|              null|              null|           148|           1|             false|              null|              null|           130|           2|       34.0| null|                  0.3|    0.5|       0.0|         0.0|        34.8|                 null|\n",
      "|        2|2017-04-19 15:30:26|2017-04-19 16:07:42|              1|         9.97|              null|              null|           138|           1|             false|              null|              null|           237|           1|       33.0| null|                  0.3|    0.5|      7.91|        5.76|       47.47|                 null|\n",
      "|        2|2018-10-18 11:13:23|2018-10-18 11:34:36|              2|         4.48|              null|              null|           262|           1|             false|              null|              null|            50|           1|       18.0| null|                  0.3|    0.5|      3.76|         0.0|       22.56|                 null|\n",
      "|        1|2016-02-08 15:08:09|2016-02-08 15:30:45|              1|          6.2|-74.01348876953125|40.704475402832031|          null|           1|              null|  -73.982177734375|40.758216857910156|          null|           1|       22.5| null|                  0.3|    0.5|      4.65|         0.0|       27.95|                 null|\n",
      "|        2|2017-05-23 23:12:21|2017-05-23 23:36:28|              1|         6.31|              null|              null|            90|           1|             false|              null|              null|           260|           1|       22.5| null|                  0.3|    0.5|      4.76|         0.0|       28.56|                 null|\n",
      "|        2|2018-10-02 07:45:54|2018-10-02 07:58:23|              2|          5.5|              null|              null|           137|           1|             false|              null|              null|            65|           1|       18.0| null|                  0.3|    0.5|      3.76|         0.0|       22.56|                 null|\n",
      "|     null|2019-07-02 12:16:00|2019-07-02 12:36:00|           null|        10.58|              null|              null|           262|        null|              null|              null|              null|            95|        null|      29.59| null|                  0.3|    0.5|       0.0|        6.12|       39.26|                  0.0|\n",
      "|        1|2015-02-17 21:02:31|2015-02-17 21:27:01|              2|          5.9|-74.00267791748047|40.730461120605469|          null|           1|             false| -73.9858169555664| 40.66584014892578|          null|           1|       21.5| null|                  0.3|    0.5|       5.7|         0.0|        28.5|                 null|\n",
      "|        2|2017-01-21 02:23:48|2017-01-21 02:49:05|              6|         8.08|              null|              null|            45|           1|             false|              null|              null|           196|           2|       24.5| null|                  0.3|    0.5|       0.0|         0.0|        25.8|                 null|\n",
      "|        2|2017-02-08 16:49:10|2017-02-08 17:26:40|              5|         12.9|              null|              null|           231|           3|             false|              null|              null|             1|           1|       57.0| null|                  0.3|    0.0|      10.0|        12.5|        80.8|                 null|\n",
      "|        1|2017-05-22 02:28:22|2017-05-22 02:47:51|              1|          6.2|              null|              null|           144|           1|             false|              null|              null|           177|           2|       20.5| null|                  0.3|    0.5|       0.0|         0.0|        21.8|                 null|\n",
      "|        2|2018-08-24 06:59:44|2018-08-24 07:29:56|              1|         4.07|              null|              null|           262|           1|             false|              null|              null|           224|           1|       22.5| null|                  0.3|    0.5|      2.33|         0.0|       25.63|                 null|\n",
      "|        2|2015-12-11 01:04:57|2015-12-11 01:31:41|              1|         7.17|-73.97978973388672|  40.7608757019043|          null|           1|             false|-73.90774536132812|40.706233978271484|          null|           2|       25.5| null|                  0.3|    0.5|       0.0|         0.0|        26.8|                 null|\n",
      "|        2|2017-03-27 12:30:21|2017-03-27 12:56:18|              2|         8.41|              null|              null|            75|           1|             false|              null|              null|           138|           1|       29.0| null|                  0.3|    0.5|      7.11|        5.76|       42.67|                 null|\n",
      "|        1|2016-04-30 14:50:05|2016-04-30 15:15:31|              1|          5.1|-73.96088409423828|40.780776977539063|          null|           1|              null|-74.00955963134766| 40.73942184448242|          null|           1|       20.5| null|                  0.3|    0.5|       3.0|         0.0|        24.3|                 null|\n",
      "|        1|2018-10-08 16:26:42|2018-10-08 16:45:47|              1|          7.0|              null|              null|            88|           1|             false|              null|              null|           263|           1|       21.5| null|                  0.3|    0.5|       1.0|         0.0|        23.3|                 null|\n",
      "|        1|2019-02-07 22:38:24|2019-02-07 23:06:19|              2|          8.0|              null|              null|           138|           1|             false|              null|              null|           229|           1|       28.0| null|                  0.3|    0.5|      6.35|         0.0|       38.15|                  2.5|\n",
      "+---------+-------------------+-------------------+---------------+-------------+------------------+------------------+--------------+------------+------------------+------------------+------------------+--------------+------------+-----------+-----+---------------------+-------+----------+------------+------------+---------------------+\n",
      "only showing top 20 rows\n",
      "\n"
     ]
    }
   ],
   "source": [
    "result.show()"
   ]
  },
  {
   "cell_type": "code",
   "execution_count": 15,
   "metadata": {},
   "outputs": [],
   "source": [
    "sql_statement = '''\n",
    "    SELECT \n",
    "      vendor_id, \n",
    "      SUM(passenger_count) AS total_passenger,\n",
    "      AVG(passenger_count) AS average_passenger,\n",
    "      MIN(passenger_count) AS min_passenger,\n",
    "      MAX(passenger_count) AS max_passenger\n",
    "    FROM `yellow_tripdata`\n",
    "    WHERE\n",
    "      vendor_id IS NOT NULL\n",
    "    GROUP BY \n",
    "      vendor_id\n",
    "'''\n",
    "\n",
    "result_2 = spark.sql(sql_statement)"
   ]
  },
  {
   "cell_type": "code",
   "execution_count": 16,
   "metadata": {},
   "outputs": [
    {
     "name": "stdout",
     "output_type": "stream",
     "text": [
      "+---------+---------------+------------------+-------------+-------------+\n",
      "|vendor_id|total_passenger| average_passenger|min_passenger|max_passenger|\n",
      "+---------+---------------+------------------+-------------+-------------+\n",
      "|      CMT|        2875916|1.2860624500831315|            0|            9|\n",
      "|        3|             22|               1.0|            1|            1|\n",
      "|      VTS|        4749170| 2.085879466044512|            0|          208|\n",
      "|      DDS|          86120|1.3719929902819819|            0|            6|\n",
      "|        1|        1436841|1.2559370790681086|            0|            8|\n",
      "|        4|           3599|1.0395725014442518|            1|            4|\n",
      "|        2|        2810183|1.9286295680151095|            0|            9|\n",
      "+---------+---------------+------------------+-------------+-------------+\n",
      "\n"
     ]
    }
   ],
   "source": [
    "result_2.show()"
   ]
  },
  {
   "cell_type": "markdown",
   "metadata": {},
   "source": [
    "## Machine Learning Start Here!!"
   ]
  },
  {
   "cell_type": "code",
   "execution_count": 17,
   "metadata": {},
   "outputs": [],
   "source": [
    "list_of_selected_col = ['vendor_id', 'pickup_datetime', 'dropoff_datetime', \n",
    "                        'passenger_count', 'trip_distance', 'fare_amount', \n",
    "                        'tip_amount', 'tolls_amount', 'total_amount']\n",
    "\n",
    "temp_df = df.select(list_of_selected_col).na.drop()"
   ]
  },
  {
   "cell_type": "code",
   "execution_count": 18,
   "metadata": {},
   "outputs": [
    {
     "name": "stdout",
     "output_type": "stream",
     "text": [
      "+---------+-------------------+-------------------+---------------+-------------+-----------+----------+------------+------------+\n",
      "|vendor_id|    pickup_datetime|   dropoff_datetime|passenger_count|trip_distance|fare_amount|tip_amount|tolls_amount|total_amount|\n",
      "+---------+-------------------+-------------------+---------------+-------------+-----------+----------+------------+------------+\n",
      "|        1|2017-09-22 12:07:56|2017-09-22 12:36:34|              4|          3.8|       19.5|       0.0|         0.0|        20.3|\n",
      "|        1|2018-10-11 21:41:03|2018-10-11 22:02:40|              1|          4.5|       18.0|       2.7|         0.0|        22.0|\n",
      "|        2|2018-02-07 14:20:53|2018-02-07 14:52:58|              1|         5.92|       24.5|       3.0|         0.0|        28.3|\n",
      "|        2|2018-01-01 10:47:27|2018-01-01 11:12:26|              1|        12.32|       34.0|       0.0|         0.0|        34.8|\n",
      "|        2|2017-04-19 15:30:26|2017-04-19 16:07:42|              1|         9.97|       33.0|      7.91|        5.76|       47.47|\n",
      "|        2|2018-10-18 11:13:23|2018-10-18 11:34:36|              2|         4.48|       18.0|      3.76|         0.0|       22.56|\n",
      "|        1|2016-02-08 15:08:09|2016-02-08 15:30:45|              1|          6.2|       22.5|      4.65|         0.0|       27.95|\n",
      "|        2|2017-05-23 23:12:21|2017-05-23 23:36:28|              1|         6.31|       22.5|      4.76|         0.0|       28.56|\n",
      "|        2|2018-10-02 07:45:54|2018-10-02 07:58:23|              2|          5.5|       18.0|      3.76|         0.0|       22.56|\n",
      "|        1|2015-02-17 21:02:31|2015-02-17 21:27:01|              2|          5.9|       21.5|       5.7|         0.0|        28.5|\n",
      "|        2|2017-01-21 02:23:48|2017-01-21 02:49:05|              6|         8.08|       24.5|       0.0|         0.0|        25.8|\n",
      "|        2|2017-02-08 16:49:10|2017-02-08 17:26:40|              5|         12.9|       57.0|      10.0|        12.5|        80.8|\n",
      "|        1|2017-05-22 02:28:22|2017-05-22 02:47:51|              1|          6.2|       20.5|       0.0|         0.0|        21.8|\n",
      "|        2|2018-08-24 06:59:44|2018-08-24 07:29:56|              1|         4.07|       22.5|      2.33|         0.0|       25.63|\n",
      "|        2|2015-12-11 01:04:57|2015-12-11 01:31:41|              1|         7.17|       25.5|       0.0|         0.0|        26.8|\n",
      "|        2|2017-03-27 12:30:21|2017-03-27 12:56:18|              2|         8.41|       29.0|      7.11|        5.76|       42.67|\n",
      "|        1|2016-04-30 14:50:05|2016-04-30 15:15:31|              1|          5.1|       20.5|       3.0|         0.0|        24.3|\n",
      "|        1|2018-10-08 16:26:42|2018-10-08 16:45:47|              1|          7.0|       21.5|       1.0|         0.0|        23.3|\n",
      "|        1|2019-02-07 22:38:24|2019-02-07 23:06:19|              2|          8.0|       28.0|      6.35|         0.0|       38.15|\n",
      "|        2|2015-07-30 22:04:13|2015-07-30 22:37:11|              5|        10.18|       30.0|       0.0|         0.0|        31.3|\n",
      "+---------+-------------------+-------------------+---------------+-------------+-----------+----------+------------+------------+\n",
      "only showing top 20 rows\n",
      "\n"
     ]
    }
   ],
   "source": [
    "temp_df.show()"
   ]
  },
  {
   "cell_type": "markdown",
   "metadata": {},
   "source": [
    "### Find trip duration"
   ]
  },
  {
   "cell_type": "code",
   "execution_count": 19,
   "metadata": {},
   "outputs": [],
   "source": [
    "from pyspark.sql.functions import unix_timestamp\n",
    "\n",
    "datetime_format = \"yyyy-mm-dd hh:mm:ss\"\n",
    "\n",
    "time_diff = unix_timestamp('dropoff_datetime', format=datetime_format) - unix_timestamp('pickup_datetime', format=datetime_format)\n",
    "\n",
    "final_df = temp_df.withColumn('trip_duration', time_diff)"
   ]
  },
  {
   "cell_type": "code",
   "execution_count": 20,
   "metadata": {},
   "outputs": [
    {
     "name": "stdout",
     "output_type": "stream",
     "text": [
      "+---------+---------------+-------------+-----------+----------+------------+------------+-------------+\n",
      "|vendor_id|passenger_count|trip_distance|fare_amount|tip_amount|tolls_amount|total_amount|trip_duration|\n",
      "+---------+---------------+-------------+-----------+----------+------------+------------+-------------+\n",
      "|        1|              4|          3.8|       19.5|       0.0|         0.0|        20.3|         1718|\n",
      "|        1|              1|          4.5|       18.0|       2.7|         0.0|        22.0|         1297|\n",
      "|        2|              1|         5.92|       24.5|       3.0|         0.0|        28.3|         1925|\n",
      "|        2|              1|        12.32|       34.0|       0.0|         0.0|        34.8|         1499|\n",
      "|        2|              1|         9.97|       33.0|      7.91|        5.76|       47.47|         2236|\n",
      "|        2|              2|         4.48|       18.0|      3.76|         0.0|       22.56|         1273|\n",
      "|        1|              1|          6.2|       22.5|      4.65|         0.0|       27.95|         1356|\n",
      "|        2|              1|         6.31|       22.5|      4.76|         0.0|       28.56|         1447|\n",
      "|        2|              2|          5.5|       18.0|      3.76|         0.0|       22.56|          749|\n",
      "|        1|              2|          5.9|       21.5|       5.7|         0.0|        28.5|         1470|\n",
      "|        2|              6|         8.08|       24.5|       0.0|         0.0|        25.8|         1517|\n",
      "|        2|              5|         12.9|       57.0|      10.0|        12.5|        80.8|         2250|\n",
      "|        1|              1|          6.2|       20.5|       0.0|         0.0|        21.8|         1169|\n",
      "|        2|              1|         4.07|       22.5|      2.33|         0.0|       25.63|         1812|\n",
      "|        2|              1|         7.17|       25.5|       0.0|         0.0|        26.8|         1604|\n",
      "|        2|              2|         8.41|       29.0|      7.11|        5.76|       42.67|         1557|\n",
      "|        1|              1|          5.1|       20.5|       3.0|         0.0|        24.3|         1526|\n",
      "|        1|              1|          7.0|       21.5|       1.0|         0.0|        23.3|         1145|\n",
      "|        1|              2|          8.0|       28.0|      6.35|         0.0|       38.15|         1675|\n",
      "|        2|              5|        10.18|       30.0|       0.0|         0.0|        31.3|         1978|\n",
      "+---------+---------------+-------------+-----------+----------+------------+------------+-------------+\n",
      "only showing top 20 rows\n",
      "\n"
     ]
    }
   ],
   "source": [
    "final_df = final_df.drop('dropoff_datetime')\n",
    "final_df = final_df.drop('pickup_datetime')\n",
    "final_df.show()"
   ]
  },
  {
   "cell_type": "code",
   "execution_count": 21,
   "metadata": {},
   "outputs": [
    {
     "name": "stdout",
     "output_type": "stream",
     "text": [
      "+---------+\n",
      "|vendor_id|\n",
      "+---------+\n",
      "|      CMT|\n",
      "|      VTS|\n",
      "|      DDS|\n",
      "|        1|\n",
      "|        4|\n",
      "|        2|\n",
      "+---------+\n",
      "\n"
     ]
    }
   ],
   "source": [
    "final_df.select('vendor_id').distinct().show()"
   ]
  },
  {
   "cell_type": "code",
   "execution_count": 22,
   "metadata": {},
   "outputs": [
    {
     "name": "stdout",
     "output_type": "stream",
     "text": [
      "+-------+------------------+------------------+-----------------+------------------+-----------------+------------------+------------------+-----------------+\n",
      "|summary|         vendor_id|   passenger_count|    trip_distance|       fare_amount|       tip_amount|      tolls_amount|      total_amount|    trip_duration|\n",
      "+-------+------------------+------------------+-----------------+------------------+-----------------+------------------+------------------+-----------------+\n",
      "|  count|           6906443|           6906443|          6906443|           6906443|          6906443|           6906443|           6906443|          6906443|\n",
      "|   mean|1.5662205509569063|1.6662836426797412|7.869465037212382|11.684649503369455|1.326532411836269|0.2529558906082214|14.253854121443874| 830.207139767895|\n",
      "| stddev|0.5045072214619185| 1.308712968351337|6525.001220841516|10.204495781296464|2.230806249519298|1.3705993702462098|12.352342427778117|4078.789072656279|\n",
      "|    min|                 1|                 0|              0.0|            -300.0|           -80.08|             -12.5|            -300.8|         -4162405|\n",
      "|    25%|               1.0|                 1|              1.0|               6.1|              0.0|               0.0|               7.6|              374|\n",
      "|    50%|               2.0|                 1|              1.7|               8.5|              0.5|               0.0|              10.6|              622|\n",
      "|    75%|               2.0|                 2|             3.13|              13.0|              2.0|               0.0|             15.87|             1003|\n",
      "|    max|               VTS|               208|     1.18000052E7|           4587.59|            499.0|           1000.66|           4725.22|          6862974|\n",
      "+-------+------------------+------------------+-----------------+------------------+-----------------+------------------+------------------+-----------------+\n",
      "\n"
     ]
    }
   ],
   "source": [
    "final_df.summary().show()"
   ]
  },
  {
   "cell_type": "code",
   "execution_count": 23,
   "metadata": {},
   "outputs": [],
   "source": [
    "del temp_df\n",
    "del df"
   ]
  },
  {
   "cell_type": "markdown",
   "metadata": {},
   "source": [
    "## Prepare feature vector"
   ]
  },
  {
   "cell_type": "code",
   "execution_count": 24,
   "metadata": {},
   "outputs": [],
   "source": [
    "from pyspark.ml.feature import (VectorAssembler,VectorIndexer,\n",
    "                                OneHotEncoder,StringIndexer)"
   ]
  },
  {
   "cell_type": "code",
   "execution_count": 25,
   "metadata": {},
   "outputs": [],
   "source": [
    "vendor_id_indexer = StringIndexer(inputCol='vendor_id', outputCol='vendor_id_index')\n",
    "vendor_id_encoder = OneHotEncoder(inputCol='vendor_id_index', outputCol='vendor_id_vector')"
   ]
  },
  {
   "cell_type": "code",
   "execution_count": 26,
   "metadata": {},
   "outputs": [],
   "source": [
    "assembler = VectorAssembler(inputCols=['trip_distance',\n",
    " 'fare_amount',\n",
    " 'tip_amount',\n",
    " 'tolls_amount',\n",
    " 'total_amount',\n",
    " 'trip_duration'], outputCol='features')"
   ]
  },
  {
   "cell_type": "code",
   "execution_count": 27,
   "metadata": {},
   "outputs": [],
   "source": [
    "feature_vector = assembler.transform(final_df)"
   ]
  },
  {
   "cell_type": "code",
   "execution_count": 28,
   "metadata": {},
   "outputs": [
    {
     "name": "stdout",
     "output_type": "stream",
     "text": [
      "+---------+---------------+-------------+-----------+----------+------------+------------+-------------+--------------------+\n",
      "|vendor_id|passenger_count|trip_distance|fare_amount|tip_amount|tolls_amount|total_amount|trip_duration|            features|\n",
      "+---------+---------------+-------------+-----------+----------+------------+------------+-------------+--------------------+\n",
      "|        1|              4|          3.8|       19.5|       0.0|         0.0|        20.3|         1718|[3.8,19.5,0.0,0.0...|\n",
      "|        1|              1|          4.5|       18.0|       2.7|         0.0|        22.0|         1297|[4.5,18.0,2.7,0.0...|\n",
      "|        2|              1|         5.92|       24.5|       3.0|         0.0|        28.3|         1925|[5.92,24.5,3.0,0....|\n",
      "|        2|              1|        12.32|       34.0|       0.0|         0.0|        34.8|         1499|[12.32,34.0,0.0,0...|\n",
      "|        2|              1|         9.97|       33.0|      7.91|        5.76|       47.47|         2236|[9.97,33.0,7.91,5...|\n",
      "|        2|              2|         4.48|       18.0|      3.76|         0.0|       22.56|         1273|[4.48,18.0,3.76,0...|\n",
      "|        1|              1|          6.2|       22.5|      4.65|         0.0|       27.95|         1356|[6.2,22.5,4.65,0....|\n",
      "|        2|              1|         6.31|       22.5|      4.76|         0.0|       28.56|         1447|[6.31,22.5,4.76,0...|\n",
      "|        2|              2|          5.5|       18.0|      3.76|         0.0|       22.56|          749|[5.5,18.0,3.76,0....|\n",
      "|        1|              2|          5.9|       21.5|       5.7|         0.0|        28.5|         1470|[5.9,21.5,5.7,0.0...|\n",
      "|        2|              6|         8.08|       24.5|       0.0|         0.0|        25.8|         1517|[8.08,24.5,0.0,0....|\n",
      "|        2|              5|         12.9|       57.0|      10.0|        12.5|        80.8|         2250|[12.9,57.0,10.0,1...|\n",
      "|        1|              1|          6.2|       20.5|       0.0|         0.0|        21.8|         1169|[6.2,20.5,0.0,0.0...|\n",
      "|        2|              1|         4.07|       22.5|      2.33|         0.0|       25.63|         1812|[4.07,22.5,2.33,0...|\n",
      "|        2|              1|         7.17|       25.5|       0.0|         0.0|        26.8|         1604|[7.17,25.5,0.0,0....|\n",
      "|        2|              2|         8.41|       29.0|      7.11|        5.76|       42.67|         1557|[8.41,29.0,7.11,5...|\n",
      "|        1|              1|          5.1|       20.5|       3.0|         0.0|        24.3|         1526|[5.1,20.5,3.0,0.0...|\n",
      "|        1|              1|          7.0|       21.5|       1.0|         0.0|        23.3|         1145|[7.0,21.5,1.0,0.0...|\n",
      "|        1|              2|          8.0|       28.0|      6.35|         0.0|       38.15|         1675|[8.0,28.0,6.35,0....|\n",
      "|        2|              5|        10.18|       30.0|       0.0|         0.0|        31.3|         1978|[10.18,30.0,0.0,0...|\n",
      "+---------+---------------+-------------+-----------+----------+------------+------------+-------------+--------------------+\n",
      "only showing top 20 rows\n",
      "\n"
     ]
    }
   ],
   "source": [
    "feature_vector.show()"
   ]
  },
  {
   "cell_type": "markdown",
   "metadata": {},
   "source": [
    "## Create Pipeline"
   ]
  },
  {
   "cell_type": "code",
   "execution_count": 29,
   "metadata": {},
   "outputs": [],
   "source": [
    "from pyspark.ml import Pipeline\n",
    "from pyspark.ml.classification import LogisticRegression"
   ]
  },
  {
   "cell_type": "code",
   "execution_count": 30,
   "metadata": {},
   "outputs": [],
   "source": [
    "log_reg_nyc_taxi = LogisticRegression(featuresCol='features', labelCol='passenger_count')"
   ]
  },
  {
   "cell_type": "code",
   "execution_count": 31,
   "metadata": {},
   "outputs": [],
   "source": [
    "pipeline = Pipeline(stages=[vendor_id_indexer, vendor_id_encoder, assembler, log_reg_nyc_taxi])"
   ]
  },
  {
   "cell_type": "code",
   "execution_count": 32,
   "metadata": {},
   "outputs": [],
   "source": [
    "train_data, test_data = final_df.randomSplit([0.7, 0.3])"
   ]
  },
  {
   "cell_type": "code",
   "execution_count": 33,
   "metadata": {},
   "outputs": [],
   "source": [
    "model = pipeline.fit(train_data)"
   ]
  },
  {
   "cell_type": "code",
   "execution_count": 34,
   "metadata": {},
   "outputs": [],
   "source": [
    "pred_results = model.transform(test_data)"
   ]
  },
  {
   "cell_type": "code",
   "execution_count": 36,
   "metadata": {},
   "outputs": [
    {
     "name": "stdout",
     "output_type": "stream",
     "text": [
      "+---------------+----------+\n",
      "|passenger_count|prediction|\n",
      "+---------------+----------+\n",
      "|              0|       1.0|\n",
      "|              0|       1.0|\n",
      "|              0|       1.0|\n",
      "|              0|       1.0|\n",
      "|              0|       1.0|\n",
      "|              0|       1.0|\n",
      "|              0|       1.0|\n",
      "|              0|       1.0|\n",
      "|              0|       1.0|\n",
      "|              0|       1.0|\n",
      "|              0|       1.0|\n",
      "|              0|       1.0|\n",
      "|              0|       1.0|\n",
      "|              0|       1.0|\n",
      "|              0|       1.0|\n",
      "|              0|       1.0|\n",
      "|              0|       1.0|\n",
      "|              0|       1.0|\n",
      "|              0|       1.0|\n",
      "|              0|       1.0|\n",
      "+---------------+----------+\n",
      "only showing top 20 rows\n",
      "\n"
     ]
    }
   ],
   "source": [
    "pred_results.select(['passenger_count', 'prediction']).limit(20).show()"
   ]
  },
  {
   "cell_type": "markdown",
   "metadata": {},
   "source": [
    "## Sample Evaluation"
   ]
  },
  {
   "cell_type": "code",
   "execution_count": 37,
   "metadata": {},
   "outputs": [],
   "source": [
    "from pyspark.ml.evaluation import MulticlassClassificationEvaluator"
   ]
  },
  {
   "cell_type": "code",
   "execution_count": 38,
   "metadata": {},
   "outputs": [],
   "source": [
    "# For multiclass\n",
    "evaluator = MulticlassClassificationEvaluator(predictionCol='prediction', labelCol='passenger_count',\n",
    "                                             metricName='accuracy')"
   ]
  },
  {
   "cell_type": "code",
   "execution_count": 39,
   "metadata": {},
   "outputs": [],
   "source": [
    "acc = evaluator.evaluate(pred_results)"
   ]
  },
  {
   "cell_type": "code",
   "execution_count": 40,
   "metadata": {},
   "outputs": [
    {
     "name": "stdout",
     "output_type": "stream",
     "text": [
      "Accuracy: 0.6968\n"
     ]
    }
   ],
   "source": [
    "print(\"Accuracy: {:.4f}\".format(acc))"
   ]
  },
  {
   "cell_type": "code",
   "execution_count": null,
   "metadata": {},
   "outputs": [],
   "source": []
  }
 ],
 "metadata": {
  "kernelspec": {
   "display_name": "Python 3",
   "language": "python",
   "name": "python3"
  },
  "language_info": {
   "codemirror_mode": {
    "name": "ipython",
    "version": 3
   },
   "file_extension": ".py",
   "mimetype": "text/x-python",
   "name": "python",
   "nbconvert_exporter": "python",
   "pygments_lexer": "ipython3",
   "version": "3.7.6"
  }
 },
 "nbformat": 4,
 "nbformat_minor": 4
}
